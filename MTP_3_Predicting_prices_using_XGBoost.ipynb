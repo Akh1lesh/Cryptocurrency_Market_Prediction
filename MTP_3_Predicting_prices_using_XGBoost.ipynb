{
  "nbformat": 4,
  "nbformat_minor": 0,
  "metadata": {
    "colab": {
      "provenance": []
    },
    "kernelspec": {
      "name": "python3",
      "display_name": "Python 3"
    },
    "language_info": {
      "name": "python"
    }
  },
  "cells": [
    {
      "cell_type": "code",
      "execution_count": 41,
      "metadata": {
        "id": "Q-G5hRl7JuDe"
      },
      "outputs": [],
      "source": [
        "import pandas as pd\n",
        "import numpy as np\n",
        "import xgboost as xgb\n",
        "import matplotlib.pyplot as plt\n",
        "from sklearn.model_selection import train_test_split"
      ]
    },
    {
      "cell_type": "code",
      "source": [
        "df = pd.read_csv(\"ETHUSD.csv\",index_col=[0],parse_dates=[0])"
      ],
      "metadata": {
        "id": "f4NSckB-Kg9X"
      },
      "execution_count": 42,
      "outputs": []
    },
    {
      "cell_type": "code",
      "source": [
        "df"
      ],
      "metadata": {
        "colab": {
          "base_uri": "https://localhost:8080/",
          "height": 455
        },
        "id": "1zAsXlooKoP8",
        "outputId": "67de54f3-2d45-4609-9cfa-af0314ec51e6"
      },
      "execution_count": 43,
      "outputs": [
        {
          "output_type": "execute_result",
          "data": {
            "text/plain": [
              "                   Open         High          Low        Close      Volume\n",
              "Date                                                                      \n",
              "2017-11-09   308.644989   329.451996   307.056000   320.884003   893249984\n",
              "2017-11-10   320.670990   324.717987   294.541992   299.252991   885985984\n",
              "2017-11-11   298.585999   319.453003   298.191986   314.681000   842300992\n",
              "2017-11-12   314.690002   319.153015   298.513000   307.907990  1613479936\n",
              "2017-11-13   307.024994   328.415009   307.024994   316.716003  1041889984\n",
              "...                 ...          ...          ...          ...         ...\n",
              "2023-06-14  1739.250122  1749.163208  1637.187744  1650.519287  7462905534\n",
              "2023-06-15  1650.498169  1676.406616  1624.138306  1665.519775  7328564880\n",
              "2023-06-16  1665.410645  1727.289551  1653.170898  1716.668823  6281023479\n",
              "2023-06-17  1716.671753  1766.763184  1714.150879  1727.204102  4875187477\n",
              "2023-06-18  1727.193726  1746.509155  1718.111450  1720.577515  3820038842\n",
              "\n",
              "[2048 rows x 5 columns]"
            ],
            "text/html": [
              "\n",
              "  <div id=\"df-63a02bd0-5111-424d-ada7-ebd04c7c718c\">\n",
              "    <div class=\"colab-df-container\">\n",
              "      <div>\n",
              "<style scoped>\n",
              "    .dataframe tbody tr th:only-of-type {\n",
              "        vertical-align: middle;\n",
              "    }\n",
              "\n",
              "    .dataframe tbody tr th {\n",
              "        vertical-align: top;\n",
              "    }\n",
              "\n",
              "    .dataframe thead th {\n",
              "        text-align: right;\n",
              "    }\n",
              "</style>\n",
              "<table border=\"1\" class=\"dataframe\">\n",
              "  <thead>\n",
              "    <tr style=\"text-align: right;\">\n",
              "      <th></th>\n",
              "      <th>Open</th>\n",
              "      <th>High</th>\n",
              "      <th>Low</th>\n",
              "      <th>Close</th>\n",
              "      <th>Volume</th>\n",
              "    </tr>\n",
              "    <tr>\n",
              "      <th>Date</th>\n",
              "      <th></th>\n",
              "      <th></th>\n",
              "      <th></th>\n",
              "      <th></th>\n",
              "      <th></th>\n",
              "    </tr>\n",
              "  </thead>\n",
              "  <tbody>\n",
              "    <tr>\n",
              "      <th>2017-11-09</th>\n",
              "      <td>308.644989</td>\n",
              "      <td>329.451996</td>\n",
              "      <td>307.056000</td>\n",
              "      <td>320.884003</td>\n",
              "      <td>893249984</td>\n",
              "    </tr>\n",
              "    <tr>\n",
              "      <th>2017-11-10</th>\n",
              "      <td>320.670990</td>\n",
              "      <td>324.717987</td>\n",
              "      <td>294.541992</td>\n",
              "      <td>299.252991</td>\n",
              "      <td>885985984</td>\n",
              "    </tr>\n",
              "    <tr>\n",
              "      <th>2017-11-11</th>\n",
              "      <td>298.585999</td>\n",
              "      <td>319.453003</td>\n",
              "      <td>298.191986</td>\n",
              "      <td>314.681000</td>\n",
              "      <td>842300992</td>\n",
              "    </tr>\n",
              "    <tr>\n",
              "      <th>2017-11-12</th>\n",
              "      <td>314.690002</td>\n",
              "      <td>319.153015</td>\n",
              "      <td>298.513000</td>\n",
              "      <td>307.907990</td>\n",
              "      <td>1613479936</td>\n",
              "    </tr>\n",
              "    <tr>\n",
              "      <th>2017-11-13</th>\n",
              "      <td>307.024994</td>\n",
              "      <td>328.415009</td>\n",
              "      <td>307.024994</td>\n",
              "      <td>316.716003</td>\n",
              "      <td>1041889984</td>\n",
              "    </tr>\n",
              "    <tr>\n",
              "      <th>...</th>\n",
              "      <td>...</td>\n",
              "      <td>...</td>\n",
              "      <td>...</td>\n",
              "      <td>...</td>\n",
              "      <td>...</td>\n",
              "    </tr>\n",
              "    <tr>\n",
              "      <th>2023-06-14</th>\n",
              "      <td>1739.250122</td>\n",
              "      <td>1749.163208</td>\n",
              "      <td>1637.187744</td>\n",
              "      <td>1650.519287</td>\n",
              "      <td>7462905534</td>\n",
              "    </tr>\n",
              "    <tr>\n",
              "      <th>2023-06-15</th>\n",
              "      <td>1650.498169</td>\n",
              "      <td>1676.406616</td>\n",
              "      <td>1624.138306</td>\n",
              "      <td>1665.519775</td>\n",
              "      <td>7328564880</td>\n",
              "    </tr>\n",
              "    <tr>\n",
              "      <th>2023-06-16</th>\n",
              "      <td>1665.410645</td>\n",
              "      <td>1727.289551</td>\n",
              "      <td>1653.170898</td>\n",
              "      <td>1716.668823</td>\n",
              "      <td>6281023479</td>\n",
              "    </tr>\n",
              "    <tr>\n",
              "      <th>2023-06-17</th>\n",
              "      <td>1716.671753</td>\n",
              "      <td>1766.763184</td>\n",
              "      <td>1714.150879</td>\n",
              "      <td>1727.204102</td>\n",
              "      <td>4875187477</td>\n",
              "    </tr>\n",
              "    <tr>\n",
              "      <th>2023-06-18</th>\n",
              "      <td>1727.193726</td>\n",
              "      <td>1746.509155</td>\n",
              "      <td>1718.111450</td>\n",
              "      <td>1720.577515</td>\n",
              "      <td>3820038842</td>\n",
              "    </tr>\n",
              "  </tbody>\n",
              "</table>\n",
              "<p>2048 rows × 5 columns</p>\n",
              "</div>\n",
              "      <button class=\"colab-df-convert\" onclick=\"convertToInteractive('df-63a02bd0-5111-424d-ada7-ebd04c7c718c')\"\n",
              "              title=\"Convert this dataframe to an interactive table.\"\n",
              "              style=\"display:none;\">\n",
              "        \n",
              "  <svg xmlns=\"http://www.w3.org/2000/svg\" height=\"24px\"viewBox=\"0 0 24 24\"\n",
              "       width=\"24px\">\n",
              "    <path d=\"M0 0h24v24H0V0z\" fill=\"none\"/>\n",
              "    <path d=\"M18.56 5.44l.94 2.06.94-2.06 2.06-.94-2.06-.94-.94-2.06-.94 2.06-2.06.94zm-11 1L8.5 8.5l.94-2.06 2.06-.94-2.06-.94L8.5 2.5l-.94 2.06-2.06.94zm10 10l.94 2.06.94-2.06 2.06-.94-2.06-.94-.94-2.06-.94 2.06-2.06.94z\"/><path d=\"M17.41 7.96l-1.37-1.37c-.4-.4-.92-.59-1.43-.59-.52 0-1.04.2-1.43.59L10.3 9.45l-7.72 7.72c-.78.78-.78 2.05 0 2.83L4 21.41c.39.39.9.59 1.41.59.51 0 1.02-.2 1.41-.59l7.78-7.78 2.81-2.81c.8-.78.8-2.07 0-2.86zM5.41 20L4 18.59l7.72-7.72 1.47 1.35L5.41 20z\"/>\n",
              "  </svg>\n",
              "      </button>\n",
              "      \n",
              "  <style>\n",
              "    .colab-df-container {\n",
              "      display:flex;\n",
              "      flex-wrap:wrap;\n",
              "      gap: 12px;\n",
              "    }\n",
              "\n",
              "    .colab-df-convert {\n",
              "      background-color: #E8F0FE;\n",
              "      border: none;\n",
              "      border-radius: 50%;\n",
              "      cursor: pointer;\n",
              "      display: none;\n",
              "      fill: #1967D2;\n",
              "      height: 32px;\n",
              "      padding: 0 0 0 0;\n",
              "      width: 32px;\n",
              "    }\n",
              "\n",
              "    .colab-df-convert:hover {\n",
              "      background-color: #E2EBFA;\n",
              "      box-shadow: 0px 1px 2px rgba(60, 64, 67, 0.3), 0px 1px 3px 1px rgba(60, 64, 67, 0.15);\n",
              "      fill: #174EA6;\n",
              "    }\n",
              "\n",
              "    [theme=dark] .colab-df-convert {\n",
              "      background-color: #3B4455;\n",
              "      fill: #D2E3FC;\n",
              "    }\n",
              "\n",
              "    [theme=dark] .colab-df-convert:hover {\n",
              "      background-color: #434B5C;\n",
              "      box-shadow: 0px 1px 3px 1px rgba(0, 0, 0, 0.15);\n",
              "      filter: drop-shadow(0px 1px 2px rgba(0, 0, 0, 0.3));\n",
              "      fill: #FFFFFF;\n",
              "    }\n",
              "  </style>\n",
              "\n",
              "      <script>\n",
              "        const buttonEl =\n",
              "          document.querySelector('#df-63a02bd0-5111-424d-ada7-ebd04c7c718c button.colab-df-convert');\n",
              "        buttonEl.style.display =\n",
              "          google.colab.kernel.accessAllowed ? 'block' : 'none';\n",
              "\n",
              "        async function convertToInteractive(key) {\n",
              "          const element = document.querySelector('#df-63a02bd0-5111-424d-ada7-ebd04c7c718c');\n",
              "          const dataTable =\n",
              "            await google.colab.kernel.invokeFunction('convertToInteractive',\n",
              "                                                     [key], {});\n",
              "          if (!dataTable) return;\n",
              "\n",
              "          const docLinkHtml = 'Like what you see? Visit the ' +\n",
              "            '<a target=\"_blank\" href=https://colab.research.google.com/notebooks/data_table.ipynb>data table notebook</a>'\n",
              "            + ' to learn more about interactive tables.';\n",
              "          element.innerHTML = '';\n",
              "          dataTable['output_type'] = 'display_data';\n",
              "          await google.colab.output.renderOutput(dataTable, element);\n",
              "          const docLink = document.createElement('div');\n",
              "          docLink.innerHTML = docLinkHtml;\n",
              "          element.appendChild(docLink);\n",
              "        }\n",
              "      </script>\n",
              "    </div>\n",
              "  </div>\n",
              "  "
            ]
          },
          "metadata": {},
          "execution_count": 43
        }
      ]
    },
    {
      "cell_type": "code",
      "source": [
        "projection = 10"
      ],
      "metadata": {
        "id": "m36I9vr4Kspu"
      },
      "execution_count": 44,
      "outputs": []
    },
    {
      "cell_type": "code",
      "source": [
        "df['Prediction'] = df['Close'].shift(-projection)"
      ],
      "metadata": {
        "id": "kw33HsntK21n"
      },
      "execution_count": 45,
      "outputs": []
    },
    {
      "cell_type": "code",
      "source": [
        "df.tail(15)"
      ],
      "metadata": {
        "colab": {
          "base_uri": "https://localhost:8080/",
          "height": 551
        },
        "id": "8YTkW6z6K7Kw",
        "outputId": "2dec9627-8270-4227-f941-b7f7f2de6a9e"
      },
      "execution_count": 46,
      "outputs": [
        {
          "output_type": "execute_result",
          "data": {
            "text/plain": [
              "                   Open         High          Low        Close       Volume  \\\n",
              "Date                                                                          \n",
              "2023-06-04  1892.398193  1912.205688  1885.651855  1890.513550   3747042696   \n",
              "2023-06-05  1890.417603  1890.640503  1780.211548  1811.828369   9246593033   \n",
              "2023-06-06  1810.581421  1896.222656  1801.405273  1884.494873   8704411776   \n",
              "2023-06-07  1884.372925  1893.809082  1822.303101  1832.395996   7919894455   \n",
              "2023-06-08  1832.513550  1861.136108  1830.165039  1846.301880   4536041931   \n",
              "2023-06-09  1846.077881  1854.824951  1828.544556  1840.225220   4610831509   \n",
              "2023-06-10  1840.391968  1844.785645  1721.443115  1752.384766  10788500406   \n",
              "2023-06-11  1752.527588  1776.847168  1741.110474  1753.415283   4559112981   \n",
              "2023-06-12  1753.075439  1757.659790  1722.906372  1742.528687   6031384958   \n",
              "2023-06-13  1742.390137  1761.955444  1727.749878  1739.037598   6214125203   \n",
              "2023-06-14  1739.250122  1749.163208  1637.187744  1650.519287   7462905534   \n",
              "2023-06-15  1650.498169  1676.406616  1624.138306  1665.519775   7328564880   \n",
              "2023-06-16  1665.410645  1727.289551  1653.170898  1716.668823   6281023479   \n",
              "2023-06-17  1716.671753  1766.763184  1714.150879  1727.204102   4875187477   \n",
              "2023-06-18  1727.193726  1746.509155  1718.111450  1720.577515   3820038842   \n",
              "\n",
              "             Prediction  \n",
              "Date                     \n",
              "2023-06-04  1650.519287  \n",
              "2023-06-05  1665.519775  \n",
              "2023-06-06  1716.668823  \n",
              "2023-06-07  1727.204102  \n",
              "2023-06-08  1720.577515  \n",
              "2023-06-09          NaN  \n",
              "2023-06-10          NaN  \n",
              "2023-06-11          NaN  \n",
              "2023-06-12          NaN  \n",
              "2023-06-13          NaN  \n",
              "2023-06-14          NaN  \n",
              "2023-06-15          NaN  \n",
              "2023-06-16          NaN  \n",
              "2023-06-17          NaN  \n",
              "2023-06-18          NaN  "
            ],
            "text/html": [
              "\n",
              "  <div id=\"df-07e1d690-85c3-43f2-94f4-f7aa67c888f6\">\n",
              "    <div class=\"colab-df-container\">\n",
              "      <div>\n",
              "<style scoped>\n",
              "    .dataframe tbody tr th:only-of-type {\n",
              "        vertical-align: middle;\n",
              "    }\n",
              "\n",
              "    .dataframe tbody tr th {\n",
              "        vertical-align: top;\n",
              "    }\n",
              "\n",
              "    .dataframe thead th {\n",
              "        text-align: right;\n",
              "    }\n",
              "</style>\n",
              "<table border=\"1\" class=\"dataframe\">\n",
              "  <thead>\n",
              "    <tr style=\"text-align: right;\">\n",
              "      <th></th>\n",
              "      <th>Open</th>\n",
              "      <th>High</th>\n",
              "      <th>Low</th>\n",
              "      <th>Close</th>\n",
              "      <th>Volume</th>\n",
              "      <th>Prediction</th>\n",
              "    </tr>\n",
              "    <tr>\n",
              "      <th>Date</th>\n",
              "      <th></th>\n",
              "      <th></th>\n",
              "      <th></th>\n",
              "      <th></th>\n",
              "      <th></th>\n",
              "      <th></th>\n",
              "    </tr>\n",
              "  </thead>\n",
              "  <tbody>\n",
              "    <tr>\n",
              "      <th>2023-06-04</th>\n",
              "      <td>1892.398193</td>\n",
              "      <td>1912.205688</td>\n",
              "      <td>1885.651855</td>\n",
              "      <td>1890.513550</td>\n",
              "      <td>3747042696</td>\n",
              "      <td>1650.519287</td>\n",
              "    </tr>\n",
              "    <tr>\n",
              "      <th>2023-06-05</th>\n",
              "      <td>1890.417603</td>\n",
              "      <td>1890.640503</td>\n",
              "      <td>1780.211548</td>\n",
              "      <td>1811.828369</td>\n",
              "      <td>9246593033</td>\n",
              "      <td>1665.519775</td>\n",
              "    </tr>\n",
              "    <tr>\n",
              "      <th>2023-06-06</th>\n",
              "      <td>1810.581421</td>\n",
              "      <td>1896.222656</td>\n",
              "      <td>1801.405273</td>\n",
              "      <td>1884.494873</td>\n",
              "      <td>8704411776</td>\n",
              "      <td>1716.668823</td>\n",
              "    </tr>\n",
              "    <tr>\n",
              "      <th>2023-06-07</th>\n",
              "      <td>1884.372925</td>\n",
              "      <td>1893.809082</td>\n",
              "      <td>1822.303101</td>\n",
              "      <td>1832.395996</td>\n",
              "      <td>7919894455</td>\n",
              "      <td>1727.204102</td>\n",
              "    </tr>\n",
              "    <tr>\n",
              "      <th>2023-06-08</th>\n",
              "      <td>1832.513550</td>\n",
              "      <td>1861.136108</td>\n",
              "      <td>1830.165039</td>\n",
              "      <td>1846.301880</td>\n",
              "      <td>4536041931</td>\n",
              "      <td>1720.577515</td>\n",
              "    </tr>\n",
              "    <tr>\n",
              "      <th>2023-06-09</th>\n",
              "      <td>1846.077881</td>\n",
              "      <td>1854.824951</td>\n",
              "      <td>1828.544556</td>\n",
              "      <td>1840.225220</td>\n",
              "      <td>4610831509</td>\n",
              "      <td>NaN</td>\n",
              "    </tr>\n",
              "    <tr>\n",
              "      <th>2023-06-10</th>\n",
              "      <td>1840.391968</td>\n",
              "      <td>1844.785645</td>\n",
              "      <td>1721.443115</td>\n",
              "      <td>1752.384766</td>\n",
              "      <td>10788500406</td>\n",
              "      <td>NaN</td>\n",
              "    </tr>\n",
              "    <tr>\n",
              "      <th>2023-06-11</th>\n",
              "      <td>1752.527588</td>\n",
              "      <td>1776.847168</td>\n",
              "      <td>1741.110474</td>\n",
              "      <td>1753.415283</td>\n",
              "      <td>4559112981</td>\n",
              "      <td>NaN</td>\n",
              "    </tr>\n",
              "    <tr>\n",
              "      <th>2023-06-12</th>\n",
              "      <td>1753.075439</td>\n",
              "      <td>1757.659790</td>\n",
              "      <td>1722.906372</td>\n",
              "      <td>1742.528687</td>\n",
              "      <td>6031384958</td>\n",
              "      <td>NaN</td>\n",
              "    </tr>\n",
              "    <tr>\n",
              "      <th>2023-06-13</th>\n",
              "      <td>1742.390137</td>\n",
              "      <td>1761.955444</td>\n",
              "      <td>1727.749878</td>\n",
              "      <td>1739.037598</td>\n",
              "      <td>6214125203</td>\n",
              "      <td>NaN</td>\n",
              "    </tr>\n",
              "    <tr>\n",
              "      <th>2023-06-14</th>\n",
              "      <td>1739.250122</td>\n",
              "      <td>1749.163208</td>\n",
              "      <td>1637.187744</td>\n",
              "      <td>1650.519287</td>\n",
              "      <td>7462905534</td>\n",
              "      <td>NaN</td>\n",
              "    </tr>\n",
              "    <tr>\n",
              "      <th>2023-06-15</th>\n",
              "      <td>1650.498169</td>\n",
              "      <td>1676.406616</td>\n",
              "      <td>1624.138306</td>\n",
              "      <td>1665.519775</td>\n",
              "      <td>7328564880</td>\n",
              "      <td>NaN</td>\n",
              "    </tr>\n",
              "    <tr>\n",
              "      <th>2023-06-16</th>\n",
              "      <td>1665.410645</td>\n",
              "      <td>1727.289551</td>\n",
              "      <td>1653.170898</td>\n",
              "      <td>1716.668823</td>\n",
              "      <td>6281023479</td>\n",
              "      <td>NaN</td>\n",
              "    </tr>\n",
              "    <tr>\n",
              "      <th>2023-06-17</th>\n",
              "      <td>1716.671753</td>\n",
              "      <td>1766.763184</td>\n",
              "      <td>1714.150879</td>\n",
              "      <td>1727.204102</td>\n",
              "      <td>4875187477</td>\n",
              "      <td>NaN</td>\n",
              "    </tr>\n",
              "    <tr>\n",
              "      <th>2023-06-18</th>\n",
              "      <td>1727.193726</td>\n",
              "      <td>1746.509155</td>\n",
              "      <td>1718.111450</td>\n",
              "      <td>1720.577515</td>\n",
              "      <td>3820038842</td>\n",
              "      <td>NaN</td>\n",
              "    </tr>\n",
              "  </tbody>\n",
              "</table>\n",
              "</div>\n",
              "      <button class=\"colab-df-convert\" onclick=\"convertToInteractive('df-07e1d690-85c3-43f2-94f4-f7aa67c888f6')\"\n",
              "              title=\"Convert this dataframe to an interactive table.\"\n",
              "              style=\"display:none;\">\n",
              "        \n",
              "  <svg xmlns=\"http://www.w3.org/2000/svg\" height=\"24px\"viewBox=\"0 0 24 24\"\n",
              "       width=\"24px\">\n",
              "    <path d=\"M0 0h24v24H0V0z\" fill=\"none\"/>\n",
              "    <path d=\"M18.56 5.44l.94 2.06.94-2.06 2.06-.94-2.06-.94-.94-2.06-.94 2.06-2.06.94zm-11 1L8.5 8.5l.94-2.06 2.06-.94-2.06-.94L8.5 2.5l-.94 2.06-2.06.94zm10 10l.94 2.06.94-2.06 2.06-.94-2.06-.94-.94-2.06-.94 2.06-2.06.94z\"/><path d=\"M17.41 7.96l-1.37-1.37c-.4-.4-.92-.59-1.43-.59-.52 0-1.04.2-1.43.59L10.3 9.45l-7.72 7.72c-.78.78-.78 2.05 0 2.83L4 21.41c.39.39.9.59 1.41.59.51 0 1.02-.2 1.41-.59l7.78-7.78 2.81-2.81c.8-.78.8-2.07 0-2.86zM5.41 20L4 18.59l7.72-7.72 1.47 1.35L5.41 20z\"/>\n",
              "  </svg>\n",
              "      </button>\n",
              "      \n",
              "  <style>\n",
              "    .colab-df-container {\n",
              "      display:flex;\n",
              "      flex-wrap:wrap;\n",
              "      gap: 12px;\n",
              "    }\n",
              "\n",
              "    .colab-df-convert {\n",
              "      background-color: #E8F0FE;\n",
              "      border: none;\n",
              "      border-radius: 50%;\n",
              "      cursor: pointer;\n",
              "      display: none;\n",
              "      fill: #1967D2;\n",
              "      height: 32px;\n",
              "      padding: 0 0 0 0;\n",
              "      width: 32px;\n",
              "    }\n",
              "\n",
              "    .colab-df-convert:hover {\n",
              "      background-color: #E2EBFA;\n",
              "      box-shadow: 0px 1px 2px rgba(60, 64, 67, 0.3), 0px 1px 3px 1px rgba(60, 64, 67, 0.15);\n",
              "      fill: #174EA6;\n",
              "    }\n",
              "\n",
              "    [theme=dark] .colab-df-convert {\n",
              "      background-color: #3B4455;\n",
              "      fill: #D2E3FC;\n",
              "    }\n",
              "\n",
              "    [theme=dark] .colab-df-convert:hover {\n",
              "      background-color: #434B5C;\n",
              "      box-shadow: 0px 1px 3px 1px rgba(0, 0, 0, 0.15);\n",
              "      filter: drop-shadow(0px 1px 2px rgba(0, 0, 0, 0.3));\n",
              "      fill: #FFFFFF;\n",
              "    }\n",
              "  </style>\n",
              "\n",
              "      <script>\n",
              "        const buttonEl =\n",
              "          document.querySelector('#df-07e1d690-85c3-43f2-94f4-f7aa67c888f6 button.colab-df-convert');\n",
              "        buttonEl.style.display =\n",
              "          google.colab.kernel.accessAllowed ? 'block' : 'none';\n",
              "\n",
              "        async function convertToInteractive(key) {\n",
              "          const element = document.querySelector('#df-07e1d690-85c3-43f2-94f4-f7aa67c888f6');\n",
              "          const dataTable =\n",
              "            await google.colab.kernel.invokeFunction('convertToInteractive',\n",
              "                                                     [key], {});\n",
              "          if (!dataTable) return;\n",
              "\n",
              "          const docLinkHtml = 'Like what you see? Visit the ' +\n",
              "            '<a target=\"_blank\" href=https://colab.research.google.com/notebooks/data_table.ipynb>data table notebook</a>'\n",
              "            + ' to learn more about interactive tables.';\n",
              "          element.innerHTML = '';\n",
              "          dataTable['output_type'] = 'display_data';\n",
              "          await google.colab.output.renderOutput(dataTable, element);\n",
              "          const docLink = document.createElement('div');\n",
              "          docLink.innerHTML = docLinkHtml;\n",
              "          element.appendChild(docLink);\n",
              "        }\n",
              "      </script>\n",
              "    </div>\n",
              "  </div>\n",
              "  "
            ]
          },
          "metadata": {},
          "execution_count": 46
        }
      ]
    },
    {
      "cell_type": "code",
      "source": [
        "x = np.array(df['Close'])"
      ],
      "metadata": {
        "id": "1KPeTKyALQEG"
      },
      "execution_count": 47,
      "outputs": []
    },
    {
      "cell_type": "code",
      "source": [
        "x = x[:-projection]"
      ],
      "metadata": {
        "id": "OFR1GNp4LXoG"
      },
      "execution_count": 48,
      "outputs": []
    },
    {
      "cell_type": "code",
      "source": [
        "y = np.array(df['Prediction'])\n",
        "y = y[:-projection]"
      ],
      "metadata": {
        "id": "gEM3edT9LZix"
      },
      "execution_count": 49,
      "outputs": []
    },
    {
      "cell_type": "code",
      "source": [
        "x_train,x_test,y_train,y_test = train_test_split(x,y,test_size = 0.2)"
      ],
      "metadata": {
        "id": "-5lyWZ2KLgHC"
      },
      "execution_count": 50,
      "outputs": []
    },
    {
      "cell_type": "code",
      "source": [
        "x_train = x_train.reshape(-1,1)\n",
        "x_test = x_test.reshape(-1,1)\n",
        "y_train = y_train.reshape(-1,1)\n",
        "y_test = y_test.reshape(-1,1)"
      ],
      "metadata": {
        "id": "ZJuzsZHMLoZQ"
      },
      "execution_count": 51,
      "outputs": []
    },
    {
      "cell_type": "code",
      "source": [
        "x_train"
      ],
      "metadata": {
        "colab": {
          "base_uri": "https://localhost:8080/"
        },
        "id": "Zlqqc6cJLzDZ",
        "outputId": "0de76b3b-d611-421e-d672-94bc6b6a1d88"
      },
      "execution_count": 52,
      "outputs": [
        {
          "output_type": "execute_result",
          "data": {
            "text/plain": [
              "array([[ 883.86499023],\n",
              "       [ 165.5148468 ],\n",
              "       [ 220.58900452],\n",
              "       ...,\n",
              "       [2590.69604492],\n",
              "       [ 247.05101013],\n",
              "       [ 140.68635559]])"
            ]
          },
          "metadata": {},
          "execution_count": 52
        }
      ]
    },
    {
      "cell_type": "code",
      "source": [
        "xg_reg = xgb.XGBRegressor(objective='reg:squarederror')"
      ],
      "metadata": {
        "id": "dGNQ7ANpL2pP"
      },
      "execution_count": 53,
      "outputs": []
    },
    {
      "cell_type": "code",
      "source": [
        "xg_reg"
      ],
      "metadata": {
        "colab": {
          "base_uri": "https://localhost:8080/",
          "height": 247
        },
        "id": "qVnjaLuvMbdC",
        "outputId": "dcb2008b-bb60-4fca-db19-2aab1884676f"
      },
      "execution_count": 54,
      "outputs": [
        {
          "output_type": "execute_result",
          "data": {
            "text/plain": [
              "XGBRegressor(base_score=None, booster=None, callbacks=None,\n",
              "             colsample_bylevel=None, colsample_bynode=None,\n",
              "             colsample_bytree=None, early_stopping_rounds=None,\n",
              "             enable_categorical=False, eval_metric=None, feature_types=None,\n",
              "             gamma=None, gpu_id=None, grow_policy=None, importance_type=None,\n",
              "             interaction_constraints=None, learning_rate=None, max_bin=None,\n",
              "             max_cat_threshold=None, max_cat_to_onehot=None,\n",
              "             max_delta_step=None, max_depth=None, max_leaves=None,\n",
              "             min_child_weight=None, missing=nan, monotone_constraints=None,\n",
              "             n_estimators=100, n_jobs=None, num_parallel_tree=None,\n",
              "             predictor=None, random_state=None, ...)"
            ],
            "text/html": [
              "<style>#sk-container-id-3 {color: black;background-color: white;}#sk-container-id-3 pre{padding: 0;}#sk-container-id-3 div.sk-toggleable {background-color: white;}#sk-container-id-3 label.sk-toggleable__label {cursor: pointer;display: block;width: 100%;margin-bottom: 0;padding: 0.3em;box-sizing: border-box;text-align: center;}#sk-container-id-3 label.sk-toggleable__label-arrow:before {content: \"▸\";float: left;margin-right: 0.25em;color: #696969;}#sk-container-id-3 label.sk-toggleable__label-arrow:hover:before {color: black;}#sk-container-id-3 div.sk-estimator:hover label.sk-toggleable__label-arrow:before {color: black;}#sk-container-id-3 div.sk-toggleable__content {max-height: 0;max-width: 0;overflow: hidden;text-align: left;background-color: #f0f8ff;}#sk-container-id-3 div.sk-toggleable__content pre {margin: 0.2em;color: black;border-radius: 0.25em;background-color: #f0f8ff;}#sk-container-id-3 input.sk-toggleable__control:checked~div.sk-toggleable__content {max-height: 200px;max-width: 100%;overflow: auto;}#sk-container-id-3 input.sk-toggleable__control:checked~label.sk-toggleable__label-arrow:before {content: \"▾\";}#sk-container-id-3 div.sk-estimator input.sk-toggleable__control:checked~label.sk-toggleable__label {background-color: #d4ebff;}#sk-container-id-3 div.sk-label input.sk-toggleable__control:checked~label.sk-toggleable__label {background-color: #d4ebff;}#sk-container-id-3 input.sk-hidden--visually {border: 0;clip: rect(1px 1px 1px 1px);clip: rect(1px, 1px, 1px, 1px);height: 1px;margin: -1px;overflow: hidden;padding: 0;position: absolute;width: 1px;}#sk-container-id-3 div.sk-estimator {font-family: monospace;background-color: #f0f8ff;border: 1px dotted black;border-radius: 0.25em;box-sizing: border-box;margin-bottom: 0.5em;}#sk-container-id-3 div.sk-estimator:hover {background-color: #d4ebff;}#sk-container-id-3 div.sk-parallel-item::after {content: \"\";width: 100%;border-bottom: 1px solid gray;flex-grow: 1;}#sk-container-id-3 div.sk-label:hover label.sk-toggleable__label {background-color: #d4ebff;}#sk-container-id-3 div.sk-serial::before {content: \"\";position: absolute;border-left: 1px solid gray;box-sizing: border-box;top: 0;bottom: 0;left: 50%;z-index: 0;}#sk-container-id-3 div.sk-serial {display: flex;flex-direction: column;align-items: center;background-color: white;padding-right: 0.2em;padding-left: 0.2em;position: relative;}#sk-container-id-3 div.sk-item {position: relative;z-index: 1;}#sk-container-id-3 div.sk-parallel {display: flex;align-items: stretch;justify-content: center;background-color: white;position: relative;}#sk-container-id-3 div.sk-item::before, #sk-container-id-3 div.sk-parallel-item::before {content: \"\";position: absolute;border-left: 1px solid gray;box-sizing: border-box;top: 0;bottom: 0;left: 50%;z-index: -1;}#sk-container-id-3 div.sk-parallel-item {display: flex;flex-direction: column;z-index: 1;position: relative;background-color: white;}#sk-container-id-3 div.sk-parallel-item:first-child::after {align-self: flex-end;width: 50%;}#sk-container-id-3 div.sk-parallel-item:last-child::after {align-self: flex-start;width: 50%;}#sk-container-id-3 div.sk-parallel-item:only-child::after {width: 0;}#sk-container-id-3 div.sk-dashed-wrapped {border: 1px dashed gray;margin: 0 0.4em 0.5em 0.4em;box-sizing: border-box;padding-bottom: 0.4em;background-color: white;}#sk-container-id-3 div.sk-label label {font-family: monospace;font-weight: bold;display: inline-block;line-height: 1.2em;}#sk-container-id-3 div.sk-label-container {text-align: center;}#sk-container-id-3 div.sk-container {/* jupyter's `normalize.less` sets `[hidden] { display: none; }` but bootstrap.min.css set `[hidden] { display: none !important; }` so we also need the `!important` here to be able to override the default hidden behavior on the sphinx rendered scikit-learn.org. See: https://github.com/scikit-learn/scikit-learn/issues/21755 */display: inline-block !important;position: relative;}#sk-container-id-3 div.sk-text-repr-fallback {display: none;}</style><div id=\"sk-container-id-3\" class=\"sk-top-container\"><div class=\"sk-text-repr-fallback\"><pre>XGBRegressor(base_score=None, booster=None, callbacks=None,\n",
              "             colsample_bylevel=None, colsample_bynode=None,\n",
              "             colsample_bytree=None, early_stopping_rounds=None,\n",
              "             enable_categorical=False, eval_metric=None, feature_types=None,\n",
              "             gamma=None, gpu_id=None, grow_policy=None, importance_type=None,\n",
              "             interaction_constraints=None, learning_rate=None, max_bin=None,\n",
              "             max_cat_threshold=None, max_cat_to_onehot=None,\n",
              "             max_delta_step=None, max_depth=None, max_leaves=None,\n",
              "             min_child_weight=None, missing=nan, monotone_constraints=None,\n",
              "             n_estimators=100, n_jobs=None, num_parallel_tree=None,\n",
              "             predictor=None, random_state=None, ...)</pre><b>In a Jupyter environment, please rerun this cell to show the HTML representation or trust the notebook. <br />On GitHub, the HTML representation is unable to render, please try loading this page with nbviewer.org.</b></div><div class=\"sk-container\" hidden><div class=\"sk-item\"><div class=\"sk-estimator sk-toggleable\"><input class=\"sk-toggleable__control sk-hidden--visually\" id=\"sk-estimator-id-3\" type=\"checkbox\" checked><label for=\"sk-estimator-id-3\" class=\"sk-toggleable__label sk-toggleable__label-arrow\">XGBRegressor</label><div class=\"sk-toggleable__content\"><pre>XGBRegressor(base_score=None, booster=None, callbacks=None,\n",
              "             colsample_bylevel=None, colsample_bynode=None,\n",
              "             colsample_bytree=None, early_stopping_rounds=None,\n",
              "             enable_categorical=False, eval_metric=None, feature_types=None,\n",
              "             gamma=None, gpu_id=None, grow_policy=None, importance_type=None,\n",
              "             interaction_constraints=None, learning_rate=None, max_bin=None,\n",
              "             max_cat_threshold=None, max_cat_to_onehot=None,\n",
              "             max_delta_step=None, max_depth=None, max_leaves=None,\n",
              "             min_child_weight=None, missing=nan, monotone_constraints=None,\n",
              "             n_estimators=100, n_jobs=None, num_parallel_tree=None,\n",
              "             predictor=None, random_state=None, ...)</pre></div></div></div></div></div>"
            ]
          },
          "metadata": {},
          "execution_count": 54
        }
      ]
    },
    {
      "cell_type": "code",
      "source": [
        "xg_reg.fit(x_train,y_train)"
      ],
      "metadata": {
        "colab": {
          "base_uri": "https://localhost:8080/",
          "height": 247
        },
        "id": "ul8UQv5IMcgk",
        "outputId": "57639a4d-7c28-4081-f67d-13f08c1b9efb"
      },
      "execution_count": 55,
      "outputs": [
        {
          "output_type": "execute_result",
          "data": {
            "text/plain": [
              "XGBRegressor(base_score=None, booster=None, callbacks=None,\n",
              "             colsample_bylevel=None, colsample_bynode=None,\n",
              "             colsample_bytree=None, early_stopping_rounds=None,\n",
              "             enable_categorical=False, eval_metric=None, feature_types=None,\n",
              "             gamma=None, gpu_id=None, grow_policy=None, importance_type=None,\n",
              "             interaction_constraints=None, learning_rate=None, max_bin=None,\n",
              "             max_cat_threshold=None, max_cat_to_onehot=None,\n",
              "             max_delta_step=None, max_depth=None, max_leaves=None,\n",
              "             min_child_weight=None, missing=nan, monotone_constraints=None,\n",
              "             n_estimators=100, n_jobs=None, num_parallel_tree=None,\n",
              "             predictor=None, random_state=None, ...)"
            ],
            "text/html": [
              "<style>#sk-container-id-4 {color: black;background-color: white;}#sk-container-id-4 pre{padding: 0;}#sk-container-id-4 div.sk-toggleable {background-color: white;}#sk-container-id-4 label.sk-toggleable__label {cursor: pointer;display: block;width: 100%;margin-bottom: 0;padding: 0.3em;box-sizing: border-box;text-align: center;}#sk-container-id-4 label.sk-toggleable__label-arrow:before {content: \"▸\";float: left;margin-right: 0.25em;color: #696969;}#sk-container-id-4 label.sk-toggleable__label-arrow:hover:before {color: black;}#sk-container-id-4 div.sk-estimator:hover label.sk-toggleable__label-arrow:before {color: black;}#sk-container-id-4 div.sk-toggleable__content {max-height: 0;max-width: 0;overflow: hidden;text-align: left;background-color: #f0f8ff;}#sk-container-id-4 div.sk-toggleable__content pre {margin: 0.2em;color: black;border-radius: 0.25em;background-color: #f0f8ff;}#sk-container-id-4 input.sk-toggleable__control:checked~div.sk-toggleable__content {max-height: 200px;max-width: 100%;overflow: auto;}#sk-container-id-4 input.sk-toggleable__control:checked~label.sk-toggleable__label-arrow:before {content: \"▾\";}#sk-container-id-4 div.sk-estimator input.sk-toggleable__control:checked~label.sk-toggleable__label {background-color: #d4ebff;}#sk-container-id-4 div.sk-label input.sk-toggleable__control:checked~label.sk-toggleable__label {background-color: #d4ebff;}#sk-container-id-4 input.sk-hidden--visually {border: 0;clip: rect(1px 1px 1px 1px);clip: rect(1px, 1px, 1px, 1px);height: 1px;margin: -1px;overflow: hidden;padding: 0;position: absolute;width: 1px;}#sk-container-id-4 div.sk-estimator {font-family: monospace;background-color: #f0f8ff;border: 1px dotted black;border-radius: 0.25em;box-sizing: border-box;margin-bottom: 0.5em;}#sk-container-id-4 div.sk-estimator:hover {background-color: #d4ebff;}#sk-container-id-4 div.sk-parallel-item::after {content: \"\";width: 100%;border-bottom: 1px solid gray;flex-grow: 1;}#sk-container-id-4 div.sk-label:hover label.sk-toggleable__label {background-color: #d4ebff;}#sk-container-id-4 div.sk-serial::before {content: \"\";position: absolute;border-left: 1px solid gray;box-sizing: border-box;top: 0;bottom: 0;left: 50%;z-index: 0;}#sk-container-id-4 div.sk-serial {display: flex;flex-direction: column;align-items: center;background-color: white;padding-right: 0.2em;padding-left: 0.2em;position: relative;}#sk-container-id-4 div.sk-item {position: relative;z-index: 1;}#sk-container-id-4 div.sk-parallel {display: flex;align-items: stretch;justify-content: center;background-color: white;position: relative;}#sk-container-id-4 div.sk-item::before, #sk-container-id-4 div.sk-parallel-item::before {content: \"\";position: absolute;border-left: 1px solid gray;box-sizing: border-box;top: 0;bottom: 0;left: 50%;z-index: -1;}#sk-container-id-4 div.sk-parallel-item {display: flex;flex-direction: column;z-index: 1;position: relative;background-color: white;}#sk-container-id-4 div.sk-parallel-item:first-child::after {align-self: flex-end;width: 50%;}#sk-container-id-4 div.sk-parallel-item:last-child::after {align-self: flex-start;width: 50%;}#sk-container-id-4 div.sk-parallel-item:only-child::after {width: 0;}#sk-container-id-4 div.sk-dashed-wrapped {border: 1px dashed gray;margin: 0 0.4em 0.5em 0.4em;box-sizing: border-box;padding-bottom: 0.4em;background-color: white;}#sk-container-id-4 div.sk-label label {font-family: monospace;font-weight: bold;display: inline-block;line-height: 1.2em;}#sk-container-id-4 div.sk-label-container {text-align: center;}#sk-container-id-4 div.sk-container {/* jupyter's `normalize.less` sets `[hidden] { display: none; }` but bootstrap.min.css set `[hidden] { display: none !important; }` so we also need the `!important` here to be able to override the default hidden behavior on the sphinx rendered scikit-learn.org. See: https://github.com/scikit-learn/scikit-learn/issues/21755 */display: inline-block !important;position: relative;}#sk-container-id-4 div.sk-text-repr-fallback {display: none;}</style><div id=\"sk-container-id-4\" class=\"sk-top-container\"><div class=\"sk-text-repr-fallback\"><pre>XGBRegressor(base_score=None, booster=None, callbacks=None,\n",
              "             colsample_bylevel=None, colsample_bynode=None,\n",
              "             colsample_bytree=None, early_stopping_rounds=None,\n",
              "             enable_categorical=False, eval_metric=None, feature_types=None,\n",
              "             gamma=None, gpu_id=None, grow_policy=None, importance_type=None,\n",
              "             interaction_constraints=None, learning_rate=None, max_bin=None,\n",
              "             max_cat_threshold=None, max_cat_to_onehot=None,\n",
              "             max_delta_step=None, max_depth=None, max_leaves=None,\n",
              "             min_child_weight=None, missing=nan, monotone_constraints=None,\n",
              "             n_estimators=100, n_jobs=None, num_parallel_tree=None,\n",
              "             predictor=None, random_state=None, ...)</pre><b>In a Jupyter environment, please rerun this cell to show the HTML representation or trust the notebook. <br />On GitHub, the HTML representation is unable to render, please try loading this page with nbviewer.org.</b></div><div class=\"sk-container\" hidden><div class=\"sk-item\"><div class=\"sk-estimator sk-toggleable\"><input class=\"sk-toggleable__control sk-hidden--visually\" id=\"sk-estimator-id-4\" type=\"checkbox\" checked><label for=\"sk-estimator-id-4\" class=\"sk-toggleable__label sk-toggleable__label-arrow\">XGBRegressor</label><div class=\"sk-toggleable__content\"><pre>XGBRegressor(base_score=None, booster=None, callbacks=None,\n",
              "             colsample_bylevel=None, colsample_bynode=None,\n",
              "             colsample_bytree=None, early_stopping_rounds=None,\n",
              "             enable_categorical=False, eval_metric=None, feature_types=None,\n",
              "             gamma=None, gpu_id=None, grow_policy=None, importance_type=None,\n",
              "             interaction_constraints=None, learning_rate=None, max_bin=None,\n",
              "             max_cat_threshold=None, max_cat_to_onehot=None,\n",
              "             max_delta_step=None, max_depth=None, max_leaves=None,\n",
              "             min_child_weight=None, missing=nan, monotone_constraints=None,\n",
              "             n_estimators=100, n_jobs=None, num_parallel_tree=None,\n",
              "             predictor=None, random_state=None, ...)</pre></div></div></div></div></div>"
            ]
          },
          "metadata": {},
          "execution_count": 55
        }
      ]
    },
    {
      "cell_type": "code",
      "source": [
        "y_pred = xg_reg.predict(x_test)"
      ],
      "metadata": {
        "id": "8scKb_HBMlkA"
      },
      "execution_count": 56,
      "outputs": []
    },
    {
      "cell_type": "code",
      "source": [
        "y_pred"
      ],
      "metadata": {
        "colab": {
          "base_uri": "https://localhost:8080/"
        },
        "id": "2tORyPJdMzW7",
        "outputId": "903efd2b-fbfe-4464-e5ab-2d4ed7526433"
      },
      "execution_count": 57,
      "outputs": [
        {
          "output_type": "execute_result",
          "data": {
            "text/plain": [
              "array([1488.1078 , 1648.8718 , 1824.2542 ,  414.94553,  177.27821,\n",
              "        146.79295,  216.53519, 1954.1115 , 1082.8406 ,  271.76846,\n",
              "        145.14804, 3106.6755 , 1635.8934 ,  216.53519, 3833.255  ,\n",
              "       1109.4835 ,  584.30896, 3178.7979 ,  205.76   ,  212.52014,\n",
              "        351.85065, 3588.6968 , 2662.4739 ,  824.5358 ,  824.5358 ,\n",
              "       1618.8193 , 2084.954  ,  209.45027, 4034.2234 ,  172.55856,\n",
              "        498.90057,  186.96495, 1282.9221 ,  782.3033 , 1282.9221 ,\n",
              "       1856.8114 , 4198.017  ,  114.07733, 3079.7522 ,  253.979  ,\n",
              "        212.52014,  607.9438 ,  116.86287, 1753.9226 ,  495.41266,\n",
              "        471.75986,  132.94855, 2129.331  ,  182.91632, 2916.176  ,\n",
              "        477.41534,  266.53278,  253.979  ,  191.71559,  212.52014,\n",
              "       2461.4966 ,  183.07181,  266.53278,  498.90057,  114.07733,\n",
              "        459.54935,  471.75986, 1709.0128 ,  183.07181,  584.30896,\n",
              "       1112.0476 ,  638.5071 ,  414.94553, 2954.4243 ,  132.94855,\n",
              "       1421.1653 ,  114.07733,  135.09326,  468.17   , 1449.9905 ,\n",
              "       1282.9221 ,  241.55826,  212.52014, 1292.7523 , 1867.5063 ,\n",
              "       1686.4451 ,  824.5358 ,  482.33078,  135.09326,  205.76   ,\n",
              "       3091.3364 , 1292.7523 ,  173.93126, 1117.3099 ,  459.54935,\n",
              "        193.43114,  824.5358 , 1724.3936 ,  145.14804,  183.07181,\n",
              "       3588.6968 , 1527.5472 , 1845.1338 , 2766.7305 ,  636.5388 ,\n",
              "        697.4149 ,  180.30641, 1781.6755 ,  697.4149 , 1779.7695 ,\n",
              "        183.07181, 2630.5261 , 1488.1078 , 1658.0582 , 4699.8896 ,\n",
              "       2621.9707 ,  172.55856, 1837.8419 , 1653.0267 ,  939.60785,\n",
              "        594.13696,  370.30637, 1100.686  , 3051.371  , 3873.021  ,\n",
              "        205.76   , 1275.4132 ,  149.74844, 2459.854  ,  498.90057,\n",
              "        370.30637, 1285.8754 , 4152.13   ,  183.07181,  205.76   ,\n",
              "       4002.6565 ,  132.94855, 3833.255  ,  741.75574,  243.5513 ,\n",
              "        268.0373 ,  376.07208, 1824.2542 , 2960.3665 ,  498.90057,\n",
              "       2818.8884 , 2234.4478 ,  253.979  , 1837.8419 ,  537.90515,\n",
              "       2339.1292 ,  119.10154, 4097.8794 , 1635.8934 , 4300.1313 ,\n",
              "       1361.8833 ,  241.55826,  351.85065,  205.76   ,  186.96495,\n",
              "        154.13025,  259.67084,  127.55   , 1310.5278 , 2730.2903 ,\n",
              "       1712.9976 ,  252.75912,  824.5358 , 1160.5638 , 4566.744  ,\n",
              "       1292.7523 , 1699.5017 , 2615.8037 , 2561.3728 , 1488.1078 ,\n",
              "       1924.3326 , 1670.8264 , 1354.9163 , 3074.4436 , 2960.3665 ,\n",
              "       1980.7684 ,  241.55826,  205.76   ,  471.75986,  697.4149 ,\n",
              "        370.30637,  266.64218,  132.94855, 1738.5258 , 1543.0167 ,\n",
              "       2867.35   ,  186.96495, 2286.6558 , 1194.886  ,  145.14804,\n",
              "       3178.7979 , 2766.7305 , 1872.0945 ,  594.13696,  271.76846,\n",
              "       1377.7172 ,  186.96495, 1254.8225 ,  971.21094,  376.07208,\n",
              "       1292.7523 ,  241.55826,  370.30637,  487.94446,  351.85065,\n",
              "       1292.7523 ,  485.5549 , 1254.8225 ,  205.76   , 1721.9467 ,\n",
              "        241.55826,  183.07181,  186.96495,  172.55856,  135.09326,\n",
              "        145.14804, 1705.731  ,  205.76   ,  116.86287,  186.96495,\n",
              "        439.6048 , 1709.0128 , 2674.4783 , 1421.1653 , 2396.1577 ,\n",
              "        607.9438 , 1226.4332 ,  187.76277,  636.5388 ,  182.91632,\n",
              "        209.45027,  252.75912, 2083.5078 ,  607.9438 , 4176.779  ,\n",
              "        459.54935,  312.02518,  145.14804,  697.4149 ,  191.28163,\n",
              "        177.27821, 2051.3438 , 1751.451  , 3029.9788 , 1256.1566 ,\n",
              "       1259.7565 ,  172.55856, 2461.4966 , 1341.3052 ,  487.94446,\n",
              "       1295.3058 ,  191.71559, 3318.4282 ,  186.96495,  186.96495,\n",
              "       2550.6807 ,  468.17   ,  498.90057,  351.85065,  652.21735,\n",
              "        824.5358 , 1341.3052 ,  119.10154,  140.7055 ,  399.40402,\n",
              "        186.96495,  215.51286, 1605.2003 ,  175.45999, 1308.4963 ,\n",
              "       1837.8419 , 1985.2899 ,  180.30641,  128.02637, 1550.1399 ,\n",
              "        191.71559,  205.76   ,  119.10154,  376.07208, 1872.0945 ,\n",
              "       1618.8193 ,  145.14804,  209.45027,  485.5549 , 1767.4812 ,\n",
              "       1488.1078 ,  185.71466,  191.71559, 3528.226  ,  414.94553,\n",
              "        304.42133,  145.14804,  241.55826,  127.55   ,  358.95486,\n",
              "       1899.978  , 1891.5615 , 1024.7379 , 1837.8419 ,  971.21094,\n",
              "       1779.7695 ,  824.5358 ,  584.30896,  205.76   ,  200.41449,\n",
              "       1127.863  ,  174.08571,  140.7055 ,  209.45027,  154.13025,\n",
              "        477.41534,  414.94553,  414.94553, 1635.8934 , 1453.3578 ,\n",
              "       3281.7012 , 4388.3555 ,  146.17946, 4264.716  , 1653.2076 ,\n",
              "       1310.5278 ,  196.76297, 1689.0762 ,  205.76   ,  212.52014,\n",
              "        191.71559,  241.55826, 1254.8225 , 1734.8354 ,  185.71466,\n",
              "        824.5358 ,  584.30896,  114.07733,  205.76   ,  205.76   ,\n",
              "       1254.8225 , 2615.8037 ,  191.71559,  241.55826, 3852.8506 ,\n",
              "       1899.978  , 1693.987  , 1824.2542 ,  414.94553,  414.94553,\n",
              "       1256.1566 ,  172.55856,  471.75986,  488.48856,  241.55826,\n",
              "       1868.6556 ,  200.41449,  266.64218, 1354.6361 ,  205.76   ,\n",
              "        205.76   ,  205.76   ,  205.76   , 2916.176  ,  631.01996,\n",
              "        782.3033 ,  243.5513 , 1431.387  ,  253.979  , 2616.719  ,\n",
              "        200.41449,  498.90057,  177.27821,  148.75621,  146.79295,\n",
              "       2672.9192 , 2481.051  , 1872.0945 ,  186.96495, 2662.4739 ,\n",
              "        697.4149 , 2914.3953 , 3007.2468 , 2672.9192 ,  205.76   ,\n",
              "       3590.0542 , 1918.0664 ,  241.55826,  154.13025,  183.07181,\n",
              "       1680.7412 ,  149.74844, 4422.36   ,  675.1334 ,  140.7055 ,\n",
              "        180.76122, 1488.1078 , 2308.4746 ,  205.76   ,  212.52014,\n",
              "       3852.1863 ,  180.76122,  223.59065, 1256.1566 ,  205.76   ,\n",
              "        370.30637, 1254.8225 , 2674.4783 , 3051.371  ,  174.08571,\n",
              "        824.5358 , 1824.2542 , 1653.2076 ], dtype=float32)"
            ]
          },
          "metadata": {},
          "execution_count": 57
        }
      ]
    },
    {
      "cell_type": "code",
      "source": [
        "xg_reg.score(x_train,y_train)"
      ],
      "metadata": {
        "colab": {
          "base_uri": "https://localhost:8080/"
        },
        "id": "xP1aRQwJM0aQ",
        "outputId": "1015b875-342e-4c6a-f4d9-c611e0cd31bc"
      },
      "execution_count": 58,
      "outputs": [
        {
          "output_type": "execute_result",
          "data": {
            "text/plain": [
              "0.99123050081475"
            ]
          },
          "metadata": {},
          "execution_count": 58
        }
      ]
    },
    {
      "cell_type": "code",
      "source": [
        "plt.figure(figsize=(10,5))\n",
        "plt.plot(y_test,label=\"Original\")\n",
        "plt.plot(y_pred,label=\"Predicted\")\n",
        "plt.legend(fontsize = 10)\n",
        "plt.show()"
      ],
      "metadata": {
        "colab": {
          "base_uri": "https://localhost:8080/",
          "height": 445
        },
        "id": "l2OvemRiNVnT",
        "outputId": "18198b33-fbea-41e8-8baf-a63487e20f4f"
      },
      "execution_count": 59,
      "outputs": [
        {
          "output_type": "display_data",
          "data": {
            "text/plain": [
              "<Figure size 1000x500 with 1 Axes>"
            ],
            "image/png": "[encoded data removed]"
          },
          "metadata": {}
        }
      ]
    },
    {
      "cell_type": "code",
      "source": [
        "sum_residual = 0\n",
        "for i in range(len(y_test)):\n",
        "  sum_residual = sum_residual + (y_test[i][0] - y_pred[i])**2\n"
      ],
      "metadata": {
        "id": "KlAWLjj_NdBH"
      },
      "execution_count": 60,
      "outputs": []
    },
    {
      "cell_type": "code",
      "source": [
        "sum1 = 0\n",
        "for i in range(len(y_test)):\n",
        "  sum1 = sum1 + y_test[i][0]\n",
        "mean = sum1/len(y_test)"
      ],
      "metadata": {
        "id": "13tHKirnttSp"
      },
      "execution_count": 61,
      "outputs": []
    },
    {
      "cell_type": "code",
      "source": [
        "mean"
      ],
      "metadata": {
        "colab": {
          "base_uri": "https://localhost:8080/"
        },
        "id": "KCN7ErqmuMHn",
        "outputId": "1062b704-dee9-4113-8a4b-e3b5bc5e0c74"
      },
      "execution_count": 62,
      "outputs": [
        {
          "output_type": "execute_result",
          "data": {
            "text/plain": [
              "1125.2066677130904"
            ]
          },
          "metadata": {},
          "execution_count": 62
        }
      ]
    },
    {
      "cell_type": "code",
      "source": [
        "sum_total = 0\n",
        "for i in range(len(y_test)):\n",
        "  sum_total = sum_total + (y_test[i][0] - mean)**2"
      ],
      "metadata": {
        "id": "YiBw_64yuM1E"
      },
      "execution_count": 63,
      "outputs": []
    },
    {
      "cell_type": "code",
      "source": [
        "r_squared = 1 - (sum_residual/sum_total)"
      ],
      "metadata": {
        "id": "hacCA2oQurnB"
      },
      "execution_count": 64,
      "outputs": []
    },
    {
      "cell_type": "code",
      "source": [
        "r_squared"
      ],
      "metadata": {
        "colab": {
          "base_uri": "https://localhost:8080/"
        },
        "id": "u3UyzcxXuvIr",
        "outputId": "f434f9e1-c78b-4f76-f42d-da7a6daeebf3"
      },
      "execution_count": 65,
      "outputs": [
        {
          "output_type": "execute_result",
          "data": {
            "text/plain": [
              "0.9377106120245248"
            ]
          },
          "metadata": {},
          "execution_count": 65
        }
      ]
    },
    {
      "cell_type": "code",
      "source": [
        "from sklearn.metrics import r2_score\n",
        "R_squared = r2_score(y_test,y_pred)"
      ],
      "metadata": {
        "id": "1RScXfMzuv-2"
      },
      "execution_count": 66,
      "outputs": []
    },
    {
      "cell_type": "code",
      "source": [
        "R_squared"
      ],
      "metadata": {
        "colab": {
          "base_uri": "https://localhost:8080/"
        },
        "id": "hmzWUk_du3Ql",
        "outputId": "958a5d86-98da-4840-ba82-2d1cd1de8ae5"
      },
      "execution_count": 67,
      "outputs": [
        {
          "output_type": "execute_result",
          "data": {
            "text/plain": [
              "0.9377106120245247"
            ]
          },
          "metadata": {},
          "execution_count": 67
        }
      ]
    },
    {
      "cell_type": "code",
      "source": [],
      "metadata": {
        "id": "1ElzFQDIvA8y"
      },
      "execution_count": 67,
      "outputs": []
    }
  ]
}