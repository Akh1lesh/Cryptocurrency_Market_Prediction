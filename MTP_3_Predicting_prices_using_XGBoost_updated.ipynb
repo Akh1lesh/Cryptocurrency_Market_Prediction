{
  "nbformat": 4,
  "nbformat_minor": 0,
  "metadata": {
    "colab": {
      "provenance": []
    },
    "kernelspec": {
      "name": "python3",
      "display_name": "Python 3"
    },
    "language_info": {
      "name": "python"
    }
  },
  "cells": [
    {
      "cell_type": "code",
      "execution_count": null,
      "metadata": {
        "id": "Q-G5hRl7JuDe"
      },
      "outputs": [],
      "source": [
        "import pandas as pd\n",
        "import numpy as np\n",
        "import xgboost as xgb\n",
        "import matplotlib.pyplot as plt\n",
        "from sklearn.model_selection import train_test_split"
      ]
    },
    {
      "cell_type": "code",
      "source": [
        "df = pd.read_csv(\"ETHUSD.csv\",index_col=[0],parse_dates=[0])"
      ],
      "metadata": {
        "id": "f4NSckB-Kg9X"
      },
      "execution_count": null,
      "outputs": []
    },
    {
      "cell_type": "code",
      "source": [
        "df"
      ],
      "metadata": {
        "colab": {
          "base_uri": "https://localhost:8080/",
          "height": 455
        },
        "id": "1zAsXlooKoP8",
        "outputId": "4923ed35-b926-4b39-edf2-6e59acc7bcdd"
      },
      "execution_count": null,
      "outputs": [
        {
          "output_type": "execute_result",
          "data": {
            "text/plain": [
              "                   Open         High          Low        Close      Volume\n",
              "Date                                                                      \n",
              "2017-11-09   308.644989   329.451996   307.056000   320.884003   893249984\n",
              "2017-11-10   320.670990   324.717987   294.541992   299.252991   885985984\n",
              "2017-11-11   298.585999   319.453003   298.191986   314.681000   842300992\n",
              "2017-11-12   314.690002   319.153015   298.513000   307.907990  1613479936\n",
              "2017-11-13   307.024994   328.415009   307.024994   316.716003  1041889984\n",
              "...                 ...          ...          ...          ...         ...\n",
              "2023-06-14  1739.250122  1749.163208  1637.187744  1650.519287  7462905534\n",
              "2023-06-15  1650.498169  1676.406616  1624.138306  1665.519775  7328564880\n",
              "2023-06-16  1665.410645  1727.289551  1653.170898  1716.668823  6281023479\n",
              "2023-06-17  1716.671753  1766.763184  1714.150879  1727.204102  4875187477\n",
              "2023-06-18  1727.193726  1746.509155  1718.111450  1720.577515  3820038842\n",
              "\n",
              "[2048 rows x 5 columns]"
            ],
            "text/html": [
              "\n",
              "  <div id=\"df-fbe69959-0aec-4234-b0ca-ddf11b5d9528\" class=\"colab-df-container\">\n",
              "    <div>\n",
              "<style scoped>\n",
              "    .dataframe tbody tr th:only-of-type {\n",
              "        vertical-align: middle;\n",
              "    }\n",
              "\n",
              "    .dataframe tbody tr th {\n",
              "        vertical-align: top;\n",
              "    }\n",
              "\n",
              "    .dataframe thead th {\n",
              "        text-align: right;\n",
              "    }\n",
              "</style>\n",
              "<table border=\"1\" class=\"dataframe\">\n",
              "  <thead>\n",
              "    <tr style=\"text-align: right;\">\n",
              "      <th></th>\n",
              "      <th>Open</th>\n",
              "      <th>High</th>\n",
              "      <th>Low</th>\n",
              "      <th>Close</th>\n",
              "      <th>Volume</th>\n",
              "    </tr>\n",
              "    <tr>\n",
              "      <th>Date</th>\n",
              "      <th></th>\n",
              "      <th></th>\n",
              "      <th></th>\n",
              "      <th></th>\n",
              "      <th></th>\n",
              "    </tr>\n",
              "  </thead>\n",
              "  <tbody>\n",
              "    <tr>\n",
              "      <th>2017-11-09</th>\n",
              "      <td>308.644989</td>\n",
              "      <td>329.451996</td>\n",
              "      <td>307.056000</td>\n",
              "      <td>320.884003</td>\n",
              "      <td>893249984</td>\n",
              "    </tr>\n",
              "    <tr>\n",
              "      <th>2017-11-10</th>\n",
              "      <td>320.670990</td>\n",
              "      <td>324.717987</td>\n",
              "      <td>294.541992</td>\n",
              "      <td>299.252991</td>\n",
              "      <td>885985984</td>\n",
              "    </tr>\n",
              "    <tr>\n",
              "      <th>2017-11-11</th>\n",
              "      <td>298.585999</td>\n",
              "      <td>319.453003</td>\n",
              "      <td>298.191986</td>\n",
              "      <td>314.681000</td>\n",
              "      <td>842300992</td>\n",
              "    </tr>\n",
              "    <tr>\n",
              "      <th>2017-11-12</th>\n",
              "      <td>314.690002</td>\n",
              "      <td>319.153015</td>\n",
              "      <td>298.513000</td>\n",
              "      <td>307.907990</td>\n",
              "      <td>1613479936</td>\n",
              "    </tr>\n",
              "    <tr>\n",
              "      <th>2017-11-13</th>\n",
              "      <td>307.024994</td>\n",
              "      <td>328.415009</td>\n",
              "      <td>307.024994</td>\n",
              "      <td>316.716003</td>\n",
              "      <td>1041889984</td>\n",
              "    </tr>\n",
              "    <tr>\n",
              "      <th>...</th>\n",
              "      <td>...</td>\n",
              "      <td>...</td>\n",
              "      <td>...</td>\n",
              "      <td>...</td>\n",
              "      <td>...</td>\n",
              "    </tr>\n",
              "    <tr>\n",
              "      <th>2023-06-14</th>\n",
              "      <td>1739.250122</td>\n",
              "      <td>1749.163208</td>\n",
              "      <td>1637.187744</td>\n",
              "      <td>1650.519287</td>\n",
              "      <td>7462905534</td>\n",
              "    </tr>\n",
              "    <tr>\n",
              "      <th>2023-06-15</th>\n",
              "      <td>1650.498169</td>\n",
              "      <td>1676.406616</td>\n",
              "      <td>1624.138306</td>\n",
              "      <td>1665.519775</td>\n",
              "      <td>7328564880</td>\n",
              "    </tr>\n",
              "    <tr>\n",
              "      <th>2023-06-16</th>\n",
              "      <td>1665.410645</td>\n",
              "      <td>1727.289551</td>\n",
              "      <td>1653.170898</td>\n",
              "      <td>1716.668823</td>\n",
              "      <td>6281023479</td>\n",
              "    </tr>\n",
              "    <tr>\n",
              "      <th>2023-06-17</th>\n",
              "      <td>1716.671753</td>\n",
              "      <td>1766.763184</td>\n",
              "      <td>1714.150879</td>\n",
              "      <td>1727.204102</td>\n",
              "      <td>4875187477</td>\n",
              "    </tr>\n",
              "    <tr>\n",
              "      <th>2023-06-18</th>\n",
              "      <td>1727.193726</td>\n",
              "      <td>1746.509155</td>\n",
              "      <td>1718.111450</td>\n",
              "      <td>1720.577515</td>\n",
              "      <td>3820038842</td>\n",
              "    </tr>\n",
              "  </tbody>\n",
              "</table>\n",
              "<p>2048 rows × 5 columns</p>\n",
              "</div>\n",
              "    <div class=\"colab-df-buttons\">\n",
              "\n",
              "  <div class=\"colab-df-container\">\n",
              "    <button class=\"colab-df-convert\" onclick=\"convertToInteractive('df-fbe69959-0aec-4234-b0ca-ddf11b5d9528')\"\n",
              "            title=\"Convert this dataframe to an interactive table.\"\n",
              "            style=\"display:none;\">\n",
              "\n",
              "  <svg xmlns=\"http://www.w3.org/2000/svg\" height=\"24px\" viewBox=\"0 -960 960 960\">\n",
              "    <path d=\"M120-120v-720h720v720H120Zm60-500h600v-160H180v160Zm220 220h160v-160H400v160Zm0 220h160v-160H400v160ZM180-400h160v-160H180v160Zm440 0h160v-160H620v160ZM180-180h160v-160H180v160Zm440 0h160v-160H620v160Z\"/>\n",
              "  </svg>\n",
              "    </button>\n",
              "\n",
              "  <style>\n",
              "    .colab-df-container {\n",
              "      display:flex;\n",
              "      gap: 12px;\n",
              "    }\n",
              "\n",
              "    .colab-df-convert {\n",
              "      background-color: #E8F0FE;\n",
              "      border: none;\n",
              "      border-radius: 50%;\n",
              "      cursor: pointer;\n",
              "      display: none;\n",
              "      fill: #1967D2;\n",
              "      height: 32px;\n",
              "      padding: 0 0 0 0;\n",
              "      width: 32px;\n",
              "    }\n",
              "\n",
              "    .colab-df-convert:hover {\n",
              "      background-color: #E2EBFA;\n",
              "      box-shadow: 0px 1px 2px rgba(60, 64, 67, 0.3), 0px 1px 3px 1px rgba(60, 64, 67, 0.15);\n",
              "      fill: #174EA6;\n",
              "    }\n",
              "\n",
              "    .colab-df-buttons div {\n",
              "      margin-bottom: 4px;\n",
              "    }\n",
              "\n",
              "    [theme=dark] .colab-df-convert {\n",
              "      background-color: #3B4455;\n",
              "      fill: #D2E3FC;\n",
              "    }\n",
              "\n",
              "    [theme=dark] .colab-df-convert:hover {\n",
              "      background-color: #434B5C;\n",
              "      box-shadow: 0px 1px 3px 1px rgba(0, 0, 0, 0.15);\n",
              "      filter: drop-shadow(0px 1px 2px rgba(0, 0, 0, 0.3));\n",
              "      fill: #FFFFFF;\n",
              "    }\n",
              "  </style>\n",
              "\n",
              "    <script>\n",
              "      const buttonEl =\n",
              "        document.querySelector('#df-fbe69959-0aec-4234-b0ca-ddf11b5d9528 button.colab-df-convert');\n",
              "      buttonEl.style.display =\n",
              "        google.colab.kernel.accessAllowed ? 'block' : 'none';\n",
              "\n",
              "      async function convertToInteractive(key) {\n",
              "        const element = document.querySelector('#df-fbe69959-0aec-4234-b0ca-ddf11b5d9528');\n",
              "        const dataTable =\n",
              "          await google.colab.kernel.invokeFunction('convertToInteractive',\n",
              "                                                    [key], {});\n",
              "        if (!dataTable) return;\n",
              "\n",
              "        const docLinkHtml = 'Like what you see? Visit the ' +\n",
              "          '<a target=\"_blank\" href=https://colab.research.google.com/notebooks/data_table.ipynb>data table notebook</a>'\n",
              "          + ' to learn more about interactive tables.';\n",
              "        element.innerHTML = '';\n",
              "        dataTable['output_type'] = 'display_data';\n",
              "        await google.colab.output.renderOutput(dataTable, element);\n",
              "        const docLink = document.createElement('div');\n",
              "        docLink.innerHTML = docLinkHtml;\n",
              "        element.appendChild(docLink);\n",
              "      }\n",
              "    </script>\n",
              "  </div>\n",
              "\n",
              "\n",
              "<div id=\"df-e1667506-8e9c-4b9d-b942-34e84ba19020\">\n",
              "  <button class=\"colab-df-quickchart\" onclick=\"quickchart('df-e1667506-8e9c-4b9d-b942-34e84ba19020')\"\n",
              "            title=\"Suggest charts.\"\n",
              "            style=\"display:none;\">\n",
              "\n",
              "<svg xmlns=\"http://www.w3.org/2000/svg\" height=\"24px\"viewBox=\"0 0 24 24\"\n",
              "     width=\"24px\">\n",
              "    <g>\n",
              "        <path d=\"M19 3H5c-1.1 0-2 .9-2 2v14c0 1.1.9 2 2 2h14c1.1 0 2-.9 2-2V5c0-1.1-.9-2-2-2zM9 17H7v-7h2v7zm4 0h-2V7h2v10zm4 0h-2v-4h2v4z\"/>\n",
              "    </g>\n",
              "</svg>\n",
              "  </button>\n",
              "\n",
              "<style>\n",
              "  .colab-df-quickchart {\n",
              "    background-color: #E8F0FE;\n",
              "    border: none;\n",
              "    border-radius: 50%;\n",
              "    cursor: pointer;\n",
              "    display: none;\n",
              "    fill: #1967D2;\n",
              "    height: 32px;\n",
              "    padding: 0 0 0 0;\n",
              "    width: 32px;\n",
              "  }\n",
              "\n",
              "  .colab-df-quickchart:hover {\n",
              "    background-color: #E2EBFA;\n",
              "    box-shadow: 0px 1px 2px rgba(60, 64, 67, 0.3), 0px 1px 3px 1px rgba(60, 64, 67, 0.15);\n",
              "    fill: #174EA6;\n",
              "  }\n",
              "\n",
              "  [theme=dark] .colab-df-quickchart {\n",
              "    background-color: #3B4455;\n",
              "    fill: #D2E3FC;\n",
              "  }\n",
              "\n",
              "  [theme=dark] .colab-df-quickchart:hover {\n",
              "    background-color: #434B5C;\n",
              "    box-shadow: 0px 1px 3px 1px rgba(0, 0, 0, 0.15);\n",
              "    filter: drop-shadow(0px 1px 2px rgba(0, 0, 0, 0.3));\n",
              "    fill: #FFFFFF;\n",
              "  }\n",
              "</style>\n",
              "\n",
              "  <script>\n",
              "    async function quickchart(key) {\n",
              "      const charts = await google.colab.kernel.invokeFunction(\n",
              "          'suggestCharts', [key], {});\n",
              "    }\n",
              "    (() => {\n",
              "      let quickchartButtonEl =\n",
              "        document.querySelector('#df-e1667506-8e9c-4b9d-b942-34e84ba19020 button');\n",
              "      quickchartButtonEl.style.display =\n",
              "        google.colab.kernel.accessAllowed ? 'block' : 'none';\n",
              "    })();\n",
              "  </script>\n",
              "</div>\n",
              "    </div>\n",
              "  </div>\n"
            ]
          },
          "metadata": {},
          "execution_count": 9
        }
      ]
    },
    {
      "cell_type": "code",
      "source": [
        "projection = 10"
      ],
      "metadata": {
        "id": "m36I9vr4Kspu"
      },
      "execution_count": null,
      "outputs": []
    },
    {
      "cell_type": "code",
      "source": [
        "df['Prediction'] = df['Close'].shift(-projection)"
      ],
      "metadata": {
        "id": "kw33HsntK21n"
      },
      "execution_count": null,
      "outputs": []
    },
    {
      "cell_type": "code",
      "source": [
        "df.tail(15)"
      ],
      "metadata": {
        "colab": {
          "base_uri": "https://localhost:8080/",
          "height": 551
        },
        "id": "8YTkW6z6K7Kw",
        "outputId": "65165892-4d14-4cfb-e469-d831de9d5552"
      },
      "execution_count": null,
      "outputs": [
        {
          "output_type": "execute_result",
          "data": {
            "text/plain": [
              "                   Open         High          Low        Close       Volume  \\\n",
              "Date                                                                          \n",
              "2023-06-04  1892.398193  1912.205688  1885.651855  1890.513550   3747042696   \n",
              "2023-06-05  1890.417603  1890.640503  1780.211548  1811.828369   9246593033   \n",
              "2023-06-06  1810.581421  1896.222656  1801.405273  1884.494873   8704411776   \n",
              "2023-06-07  1884.372925  1893.809082  1822.303101  1832.395996   7919894455   \n",
              "2023-06-08  1832.513550  1861.136108  1830.165039  1846.301880   4536041931   \n",
              "2023-06-09  1846.077881  1854.824951  1828.544556  1840.225220   4610831509   \n",
              "2023-06-10  1840.391968  1844.785645  1721.443115  1752.384766  10788500406   \n",
              "2023-06-11  1752.527588  1776.847168  1741.110474  1753.415283   4559112981   \n",
              "2023-06-12  1753.075439  1757.659790  1722.906372  1742.528687   6031384958   \n",
              "2023-06-13  1742.390137  1761.955444  1727.749878  1739.037598   6214125203   \n",
              "2023-06-14  1739.250122  1749.163208  1637.187744  1650.519287   7462905534   \n",
              "2023-06-15  1650.498169  1676.406616  1624.138306  1665.519775   7328564880   \n",
              "2023-06-16  1665.410645  1727.289551  1653.170898  1716.668823   6281023479   \n",
              "2023-06-17  1716.671753  1766.763184  1714.150879  1727.204102   4875187477   \n",
              "2023-06-18  1727.193726  1746.509155  1718.111450  1720.577515   3820038842   \n",
              "\n",
              "             Prediction  \n",
              "Date                     \n",
              "2023-06-04  1650.519287  \n",
              "2023-06-05  1665.519775  \n",
              "2023-06-06  1716.668823  \n",
              "2023-06-07  1727.204102  \n",
              "2023-06-08  1720.577515  \n",
              "2023-06-09          NaN  \n",
              "2023-06-10          NaN  \n",
              "2023-06-11          NaN  \n",
              "2023-06-12          NaN  \n",
              "2023-06-13          NaN  \n",
              "2023-06-14          NaN  \n",
              "2023-06-15          NaN  \n",
              "2023-06-16          NaN  \n",
              "2023-06-17          NaN  \n",
              "2023-06-18          NaN  "
            ],
            "text/html": [
              "\n",
              "  <div id=\"df-fc7be669-2c9d-4b55-9283-aa2c6b7c4bf1\" class=\"colab-df-container\">\n",
              "    <div>\n",
              "<style scoped>\n",
              "    .dataframe tbody tr th:only-of-type {\n",
              "        vertical-align: middle;\n",
              "    }\n",
              "\n",
              "    .dataframe tbody tr th {\n",
              "        vertical-align: top;\n",
              "    }\n",
              "\n",
              "    .dataframe thead th {\n",
              "        text-align: right;\n",
              "    }\n",
              "</style>\n",
              "<table border=\"1\" class=\"dataframe\">\n",
              "  <thead>\n",
              "    <tr style=\"text-align: right;\">\n",
              "      <th></th>\n",
              "      <th>Open</th>\n",
              "      <th>High</th>\n",
              "      <th>Low</th>\n",
              "      <th>Close</th>\n",
              "      <th>Volume</th>\n",
              "      <th>Prediction</th>\n",
              "    </tr>\n",
              "    <tr>\n",
              "      <th>Date</th>\n",
              "      <th></th>\n",
              "      <th></th>\n",
              "      <th></th>\n",
              "      <th></th>\n",
              "      <th></th>\n",
              "      <th></th>\n",
              "    </tr>\n",
              "  </thead>\n",
              "  <tbody>\n",
              "    <tr>\n",
              "      <th>2023-06-04</th>\n",
              "      <td>1892.398193</td>\n",
              "      <td>1912.205688</td>\n",
              "      <td>1885.651855</td>\n",
              "      <td>1890.513550</td>\n",
              "      <td>3747042696</td>\n",
              "      <td>1650.519287</td>\n",
              "    </tr>\n",
              "    <tr>\n",
              "      <th>2023-06-05</th>\n",
              "      <td>1890.417603</td>\n",
              "      <td>1890.640503</td>\n",
              "      <td>1780.211548</td>\n",
              "      <td>1811.828369</td>\n",
              "      <td>9246593033</td>\n",
              "      <td>1665.519775</td>\n",
              "    </tr>\n",
              "    <tr>\n",
              "      <th>2023-06-06</th>\n",
              "      <td>1810.581421</td>\n",
              "      <td>1896.222656</td>\n",
              "      <td>1801.405273</td>\n",
              "      <td>1884.494873</td>\n",
              "      <td>8704411776</td>\n",
              "      <td>1716.668823</td>\n",
              "    </tr>\n",
              "    <tr>\n",
              "      <th>2023-06-07</th>\n",
              "      <td>1884.372925</td>\n",
              "      <td>1893.809082</td>\n",
              "      <td>1822.303101</td>\n",
              "      <td>1832.395996</td>\n",
              "      <td>7919894455</td>\n",
              "      <td>1727.204102</td>\n",
              "    </tr>\n",
              "    <tr>\n",
              "      <th>2023-06-08</th>\n",
              "      <td>1832.513550</td>\n",
              "      <td>1861.136108</td>\n",
              "      <td>1830.165039</td>\n",
              "      <td>1846.301880</td>\n",
              "      <td>4536041931</td>\n",
              "      <td>1720.577515</td>\n",
              "    </tr>\n",
              "    <tr>\n",
              "      <th>2023-06-09</th>\n",
              "      <td>1846.077881</td>\n",
              "      <td>1854.824951</td>\n",
              "      <td>1828.544556</td>\n",
              "      <td>1840.225220</td>\n",
              "      <td>4610831509</td>\n",
              "      <td>NaN</td>\n",
              "    </tr>\n",
              "    <tr>\n",
              "      <th>2023-06-10</th>\n",
              "      <td>1840.391968</td>\n",
              "      <td>1844.785645</td>\n",
              "      <td>1721.443115</td>\n",
              "      <td>1752.384766</td>\n",
              "      <td>10788500406</td>\n",
              "      <td>NaN</td>\n",
              "    </tr>\n",
              "    <tr>\n",
              "      <th>2023-06-11</th>\n",
              "      <td>1752.527588</td>\n",
              "      <td>1776.847168</td>\n",
              "      <td>1741.110474</td>\n",
              "      <td>1753.415283</td>\n",
              "      <td>4559112981</td>\n",
              "      <td>NaN</td>\n",
              "    </tr>\n",
              "    <tr>\n",
              "      <th>2023-06-12</th>\n",
              "      <td>1753.075439</td>\n",
              "      <td>1757.659790</td>\n",
              "      <td>1722.906372</td>\n",
              "      <td>1742.528687</td>\n",
              "      <td>6031384958</td>\n",
              "      <td>NaN</td>\n",
              "    </tr>\n",
              "    <tr>\n",
              "      <th>2023-06-13</th>\n",
              "      <td>1742.390137</td>\n",
              "      <td>1761.955444</td>\n",
              "      <td>1727.749878</td>\n",
              "      <td>1739.037598</td>\n",
              "      <td>6214125203</td>\n",
              "      <td>NaN</td>\n",
              "    </tr>\n",
              "    <tr>\n",
              "      <th>2023-06-14</th>\n",
              "      <td>1739.250122</td>\n",
              "      <td>1749.163208</td>\n",
              "      <td>1637.187744</td>\n",
              "      <td>1650.519287</td>\n",
              "      <td>7462905534</td>\n",
              "      <td>NaN</td>\n",
              "    </tr>\n",
              "    <tr>\n",
              "      <th>2023-06-15</th>\n",
              "      <td>1650.498169</td>\n",
              "      <td>1676.406616</td>\n",
              "      <td>1624.138306</td>\n",
              "      <td>1665.519775</td>\n",
              "      <td>7328564880</td>\n",
              "      <td>NaN</td>\n",
              "    </tr>\n",
              "    <tr>\n",
              "      <th>2023-06-16</th>\n",
              "      <td>1665.410645</td>\n",
              "      <td>1727.289551</td>\n",
              "      <td>1653.170898</td>\n",
              "      <td>1716.668823</td>\n",
              "      <td>6281023479</td>\n",
              "      <td>NaN</td>\n",
              "    </tr>\n",
              "    <tr>\n",
              "      <th>2023-06-17</th>\n",
              "      <td>1716.671753</td>\n",
              "      <td>1766.763184</td>\n",
              "      <td>1714.150879</td>\n",
              "      <td>1727.204102</td>\n",
              "      <td>4875187477</td>\n",
              "      <td>NaN</td>\n",
              "    </tr>\n",
              "    <tr>\n",
              "      <th>2023-06-18</th>\n",
              "      <td>1727.193726</td>\n",
              "      <td>1746.509155</td>\n",
              "      <td>1718.111450</td>\n",
              "      <td>1720.577515</td>\n",
              "      <td>3820038842</td>\n",
              "      <td>NaN</td>\n",
              "    </tr>\n",
              "  </tbody>\n",
              "</table>\n",
              "</div>\n",
              "    <div class=\"colab-df-buttons\">\n",
              "\n",
              "  <div class=\"colab-df-container\">\n",
              "    <button class=\"colab-df-convert\" onclick=\"convertToInteractive('df-fc7be669-2c9d-4b55-9283-aa2c6b7c4bf1')\"\n",
              "            title=\"Convert this dataframe to an interactive table.\"\n",
              "            style=\"display:none;\">\n",
              "\n",
              "  <svg xmlns=\"http://www.w3.org/2000/svg\" height=\"24px\" viewBox=\"0 -960 960 960\">\n",
              "    <path d=\"M120-120v-720h720v720H120Zm60-500h600v-160H180v160Zm220 220h160v-160H400v160Zm0 220h160v-160H400v160ZM180-400h160v-160H180v160Zm440 0h160v-160H620v160ZM180-180h160v-160H180v160Zm440 0h160v-160H620v160Z\"/>\n",
              "  </svg>\n",
              "    </button>\n",
              "\n",
              "  <style>\n",
              "    .colab-df-container {\n",
              "      display:flex;\n",
              "      gap: 12px;\n",
              "    }\n",
              "\n",
              "    .colab-df-convert {\n",
              "      background-color: #E8F0FE;\n",
              "      border: none;\n",
              "      border-radius: 50%;\n",
              "      cursor: pointer;\n",
              "      display: none;\n",
              "      fill: #1967D2;\n",
              "      height: 32px;\n",
              "      padding: 0 0 0 0;\n",
              "      width: 32px;\n",
              "    }\n",
              "\n",
              "    .colab-df-convert:hover {\n",
              "      background-color: #E2EBFA;\n",
              "      box-shadow: 0px 1px 2px rgba(60, 64, 67, 0.3), 0px 1px 3px 1px rgba(60, 64, 67, 0.15);\n",
              "      fill: #174EA6;\n",
              "    }\n",
              "\n",
              "    .colab-df-buttons div {\n",
              "      margin-bottom: 4px;\n",
              "    }\n",
              "\n",
              "    [theme=dark] .colab-df-convert {\n",
              "      background-color: #3B4455;\n",
              "      fill: #D2E3FC;\n",
              "    }\n",
              "\n",
              "    [theme=dark] .colab-df-convert:hover {\n",
              "      background-color: #434B5C;\n",
              "      box-shadow: 0px 1px 3px 1px rgba(0, 0, 0, 0.15);\n",
              "      filter: drop-shadow(0px 1px 2px rgba(0, 0, 0, 0.3));\n",
              "      fill: #FFFFFF;\n",
              "    }\n",
              "  </style>\n",
              "\n",
              "    <script>\n",
              "      const buttonEl =\n",
              "        document.querySelector('#df-fc7be669-2c9d-4b55-9283-aa2c6b7c4bf1 button.colab-df-convert');\n",
              "      buttonEl.style.display =\n",
              "        google.colab.kernel.accessAllowed ? 'block' : 'none';\n",
              "\n",
              "      async function convertToInteractive(key) {\n",
              "        const element = document.querySelector('#df-fc7be669-2c9d-4b55-9283-aa2c6b7c4bf1');\n",
              "        const dataTable =\n",
              "          await google.colab.kernel.invokeFunction('convertToInteractive',\n",
              "                                                    [key], {});\n",
              "        if (!dataTable) return;\n",
              "\n",
              "        const docLinkHtml = 'Like what you see? Visit the ' +\n",
              "          '<a target=\"_blank\" href=https://colab.research.google.com/notebooks/data_table.ipynb>data table notebook</a>'\n",
              "          + ' to learn more about interactive tables.';\n",
              "        element.innerHTML = '';\n",
              "        dataTable['output_type'] = 'display_data';\n",
              "        await google.colab.output.renderOutput(dataTable, element);\n",
              "        const docLink = document.createElement('div');\n",
              "        docLink.innerHTML = docLinkHtml;\n",
              "        element.appendChild(docLink);\n",
              "      }\n",
              "    </script>\n",
              "  </div>\n",
              "\n",
              "\n",
              "<div id=\"df-a90680f3-7c51-4781-a62e-0879637ca7ab\">\n",
              "  <button class=\"colab-df-quickchart\" onclick=\"quickchart('df-a90680f3-7c51-4781-a62e-0879637ca7ab')\"\n",
              "            title=\"Suggest charts.\"\n",
              "            style=\"display:none;\">\n",
              "\n",
              "<svg xmlns=\"http://www.w3.org/2000/svg\" height=\"24px\"viewBox=\"0 0 24 24\"\n",
              "     width=\"24px\">\n",
              "    <g>\n",
              "        <path d=\"M19 3H5c-1.1 0-2 .9-2 2v14c0 1.1.9 2 2 2h14c1.1 0 2-.9 2-2V5c0-1.1-.9-2-2-2zM9 17H7v-7h2v7zm4 0h-2V7h2v10zm4 0h-2v-4h2v4z\"/>\n",
              "    </g>\n",
              "</svg>\n",
              "  </button>\n",
              "\n",
              "<style>\n",
              "  .colab-df-quickchart {\n",
              "    background-color: #E8F0FE;\n",
              "    border: none;\n",
              "    border-radius: 50%;\n",
              "    cursor: pointer;\n",
              "    display: none;\n",
              "    fill: #1967D2;\n",
              "    height: 32px;\n",
              "    padding: 0 0 0 0;\n",
              "    width: 32px;\n",
              "  }\n",
              "\n",
              "  .colab-df-quickchart:hover {\n",
              "    background-color: #E2EBFA;\n",
              "    box-shadow: 0px 1px 2px rgba(60, 64, 67, 0.3), 0px 1px 3px 1px rgba(60, 64, 67, 0.15);\n",
              "    fill: #174EA6;\n",
              "  }\n",
              "\n",
              "  [theme=dark] .colab-df-quickchart {\n",
              "    background-color: #3B4455;\n",
              "    fill: #D2E3FC;\n",
              "  }\n",
              "\n",
              "  [theme=dark] .colab-df-quickchart:hover {\n",
              "    background-color: #434B5C;\n",
              "    box-shadow: 0px 1px 3px 1px rgba(0, 0, 0, 0.15);\n",
              "    filter: drop-shadow(0px 1px 2px rgba(0, 0, 0, 0.3));\n",
              "    fill: #FFFFFF;\n",
              "  }\n",
              "</style>\n",
              "\n",
              "  <script>\n",
              "    async function quickchart(key) {\n",
              "      const charts = await google.colab.kernel.invokeFunction(\n",
              "          'suggestCharts', [key], {});\n",
              "    }\n",
              "    (() => {\n",
              "      let quickchartButtonEl =\n",
              "        document.querySelector('#df-a90680f3-7c51-4781-a62e-0879637ca7ab button');\n",
              "      quickchartButtonEl.style.display =\n",
              "        google.colab.kernel.accessAllowed ? 'block' : 'none';\n",
              "    })();\n",
              "  </script>\n",
              "</div>\n",
              "    </div>\n",
              "  </div>\n"
            ]
          },
          "metadata": {},
          "execution_count": 12
        }
      ]
    },
    {
      "cell_type": "code",
      "source": [
        "x = np.array(df['Close'])"
      ],
      "metadata": {
        "id": "1KPeTKyALQEG"
      },
      "execution_count": null,
      "outputs": []
    },
    {
      "cell_type": "code",
      "source": [
        "x = x[:-projection]"
      ],
      "metadata": {
        "id": "OFR1GNp4LXoG"
      },
      "execution_count": null,
      "outputs": []
    },
    {
      "cell_type": "code",
      "source": [
        "y = np.array(df['Prediction'])\n",
        "y = y[:-projection]"
      ],
      "metadata": {
        "id": "gEM3edT9LZix"
      },
      "execution_count": null,
      "outputs": []
    },
    {
      "cell_type": "code",
      "source": [
        "x_train,x_test,y_train,y_test = train_test_split(x,y,test_size = 0.2)"
      ],
      "metadata": {
        "id": "-5lyWZ2KLgHC"
      },
      "execution_count": null,
      "outputs": []
    },
    {
      "cell_type": "code",
      "source": [
        "x_train = x_train.reshape(-1,1)\n",
        "x_test = x_test.reshape(-1,1)\n",
        "y_train = y_train.reshape(-1,1)\n",
        "y_test = y_test.reshape(-1,1)"
      ],
      "metadata": {
        "id": "ZJuzsZHMLoZQ"
      },
      "execution_count": null,
      "outputs": []
    },
    {
      "cell_type": "code",
      "source": [
        "x_train"
      ],
      "metadata": {
        "colab": {
          "base_uri": "https://localhost:8080/"
        },
        "id": "Zlqqc6cJLzDZ",
        "outputId": "83db5173-2eb9-4a50-d7cf-5acfd9bf4e0f"
      },
      "execution_count": null,
      "outputs": [
        {
          "output_type": "execute_result",
          "data": {
            "text/plain": [
              "array([[ 126.36122131],\n",
              "       [ 379.48403931],\n",
              "       [1539.92675781],\n",
              "       ...,\n",
              "       [3587.97485352],\n",
              "       [1823.44934082],\n",
              "       [1848.45825195]])"
            ]
          },
          "metadata": {},
          "execution_count": 18
        }
      ]
    },
    {
      "cell_type": "code",
      "source": [
        "xg_reg = xgb.XGBRegressor(objective='reg:squarederror')"
      ],
      "metadata": {
        "id": "dGNQ7ANpL2pP"
      },
      "execution_count": null,
      "outputs": []
    },
    {
      "cell_type": "code",
      "source": [
        "xg_reg"
      ],
      "metadata": {
        "colab": {
          "base_uri": "https://localhost:8080/",
          "height": 248
        },
        "id": "qVnjaLuvMbdC",
        "outputId": "c6ef79b2-a0f2-414f-97aa-0e7bfd9d3f80"
      },
      "execution_count": null,
      "outputs": [
        {
          "output_type": "execute_result",
          "data": {
            "text/plain": [
              "XGBRegressor(base_score=None, booster=None, callbacks=None,\n",
              "             colsample_bylevel=None, colsample_bynode=None,\n",
              "             colsample_bytree=None, early_stopping_rounds=None,\n",
              "             enable_categorical=False, eval_metric=None, feature_types=None,\n",
              "             gamma=None, gpu_id=None, grow_policy=None, importance_type=None,\n",
              "             interaction_constraints=None, learning_rate=None, max_bin=None,\n",
              "             max_cat_threshold=None, max_cat_to_onehot=None,\n",
              "             max_delta_step=None, max_depth=None, max_leaves=None,\n",
              "             min_child_weight=None, missing=nan, monotone_constraints=None,\n",
              "             n_estimators=100, n_jobs=None, num_parallel_tree=None,\n",
              "             predictor=None, random_state=None, ...)"
            ],
            "text/html": [
              "<style>#sk-container-id-1 {color: black;background-color: white;}#sk-container-id-1 pre{padding: 0;}#sk-container-id-1 div.sk-toggleable {background-color: white;}#sk-container-id-1 label.sk-toggleable__label {cursor: pointer;display: block;width: 100%;margin-bottom: 0;padding: 0.3em;box-sizing: border-box;text-align: center;}#sk-container-id-1 label.sk-toggleable__label-arrow:before {content: \"▸\";float: left;margin-right: 0.25em;color: #696969;}#sk-container-id-1 label.sk-toggleable__label-arrow:hover:before {color: black;}#sk-container-id-1 div.sk-estimator:hover label.sk-toggleable__label-arrow:before {color: black;}#sk-container-id-1 div.sk-toggleable__content {max-height: 0;max-width: 0;overflow: hidden;text-align: left;background-color: #f0f8ff;}#sk-container-id-1 div.sk-toggleable__content pre {margin: 0.2em;color: black;border-radius: 0.25em;background-color: #f0f8ff;}#sk-container-id-1 input.sk-toggleable__control:checked~div.sk-toggleable__content {max-height: 200px;max-width: 100%;overflow: auto;}#sk-container-id-1 input.sk-toggleable__control:checked~label.sk-toggleable__label-arrow:before {content: \"▾\";}#sk-container-id-1 div.sk-estimator input.sk-toggleable__control:checked~label.sk-toggleable__label {background-color: #d4ebff;}#sk-container-id-1 div.sk-label input.sk-toggleable__control:checked~label.sk-toggleable__label {background-color: #d4ebff;}#sk-container-id-1 input.sk-hidden--visually {border: 0;clip: rect(1px 1px 1px 1px);clip: rect(1px, 1px, 1px, 1px);height: 1px;margin: -1px;overflow: hidden;padding: 0;position: absolute;width: 1px;}#sk-container-id-1 div.sk-estimator {font-family: monospace;background-color: #f0f8ff;border: 1px dotted black;border-radius: 0.25em;box-sizing: border-box;margin-bottom: 0.5em;}#sk-container-id-1 div.sk-estimator:hover {background-color: #d4ebff;}#sk-container-id-1 div.sk-parallel-item::after {content: \"\";width: 100%;border-bottom: 1px solid gray;flex-grow: 1;}#sk-container-id-1 div.sk-label:hover label.sk-toggleable__label {background-color: #d4ebff;}#sk-container-id-1 div.sk-serial::before {content: \"\";position: absolute;border-left: 1px solid gray;box-sizing: border-box;top: 0;bottom: 0;left: 50%;z-index: 0;}#sk-container-id-1 div.sk-serial {display: flex;flex-direction: column;align-items: center;background-color: white;padding-right: 0.2em;padding-left: 0.2em;position: relative;}#sk-container-id-1 div.sk-item {position: relative;z-index: 1;}#sk-container-id-1 div.sk-parallel {display: flex;align-items: stretch;justify-content: center;background-color: white;position: relative;}#sk-container-id-1 div.sk-item::before, #sk-container-id-1 div.sk-parallel-item::before {content: \"\";position: absolute;border-left: 1px solid gray;box-sizing: border-box;top: 0;bottom: 0;left: 50%;z-index: -1;}#sk-container-id-1 div.sk-parallel-item {display: flex;flex-direction: column;z-index: 1;position: relative;background-color: white;}#sk-container-id-1 div.sk-parallel-item:first-child::after {align-self: flex-end;width: 50%;}#sk-container-id-1 div.sk-parallel-item:last-child::after {align-self: flex-start;width: 50%;}#sk-container-id-1 div.sk-parallel-item:only-child::after {width: 0;}#sk-container-id-1 div.sk-dashed-wrapped {border: 1px dashed gray;margin: 0 0.4em 0.5em 0.4em;box-sizing: border-box;padding-bottom: 0.4em;background-color: white;}#sk-container-id-1 div.sk-label label {font-family: monospace;font-weight: bold;display: inline-block;line-height: 1.2em;}#sk-container-id-1 div.sk-label-container {text-align: center;}#sk-container-id-1 div.sk-container {/* jupyter's `normalize.less` sets `[hidden] { display: none; }` but bootstrap.min.css set `[hidden] { display: none !important; }` so we also need the `!important` here to be able to override the default hidden behavior on the sphinx rendered scikit-learn.org. See: https://github.com/scikit-learn/scikit-learn/issues/21755 */display: inline-block !important;position: relative;}#sk-container-id-1 div.sk-text-repr-fallback {display: none;}</style><div id=\"sk-container-id-1\" class=\"sk-top-container\"><div class=\"sk-text-repr-fallback\"><pre>XGBRegressor(base_score=None, booster=None, callbacks=None,\n",
              "             colsample_bylevel=None, colsample_bynode=None,\n",
              "             colsample_bytree=None, early_stopping_rounds=None,\n",
              "             enable_categorical=False, eval_metric=None, feature_types=None,\n",
              "             gamma=None, gpu_id=None, grow_policy=None, importance_type=None,\n",
              "             interaction_constraints=None, learning_rate=None, max_bin=None,\n",
              "             max_cat_threshold=None, max_cat_to_onehot=None,\n",
              "             max_delta_step=None, max_depth=None, max_leaves=None,\n",
              "             min_child_weight=None, missing=nan, monotone_constraints=None,\n",
              "             n_estimators=100, n_jobs=None, num_parallel_tree=None,\n",
              "             predictor=None, random_state=None, ...)</pre><b>In a Jupyter environment, please rerun this cell to show the HTML representation or trust the notebook. <br />On GitHub, the HTML representation is unable to render, please try loading this page with nbviewer.org.</b></div><div class=\"sk-container\" hidden><div class=\"sk-item\"><div class=\"sk-estimator sk-toggleable\"><input class=\"sk-toggleable__control sk-hidden--visually\" id=\"sk-estimator-id-1\" type=\"checkbox\" checked><label for=\"sk-estimator-id-1\" class=\"sk-toggleable__label sk-toggleable__label-arrow\">XGBRegressor</label><div class=\"sk-toggleable__content\"><pre>XGBRegressor(base_score=None, booster=None, callbacks=None,\n",
              "             colsample_bylevel=None, colsample_bynode=None,\n",
              "             colsample_bytree=None, early_stopping_rounds=None,\n",
              "             enable_categorical=False, eval_metric=None, feature_types=None,\n",
              "             gamma=None, gpu_id=None, grow_policy=None, importance_type=None,\n",
              "             interaction_constraints=None, learning_rate=None, max_bin=None,\n",
              "             max_cat_threshold=None, max_cat_to_onehot=None,\n",
              "             max_delta_step=None, max_depth=None, max_leaves=None,\n",
              "             min_child_weight=None, missing=nan, monotone_constraints=None,\n",
              "             n_estimators=100, n_jobs=None, num_parallel_tree=None,\n",
              "             predictor=None, random_state=None, ...)</pre></div></div></div></div></div>"
            ]
          },
          "metadata": {},
          "execution_count": 20
        }
      ]
    },
    {
      "cell_type": "code",
      "source": [
        "xg_reg.fit(x_train,y_train)"
      ],
      "metadata": {
        "colab": {
          "base_uri": "https://localhost:8080/",
          "height": 248
        },
        "id": "ul8UQv5IMcgk",
        "outputId": "67b4b9f9-9d74-451e-c218-f31f7cb3c3cd"
      },
      "execution_count": null,
      "outputs": [
        {
          "output_type": "execute_result",
          "data": {
            "text/plain": [
              "XGBRegressor(base_score=None, booster=None, callbacks=None,\n",
              "             colsample_bylevel=None, colsample_bynode=None,\n",
              "             colsample_bytree=None, early_stopping_rounds=None,\n",
              "             enable_categorical=False, eval_metric=None, feature_types=None,\n",
              "             gamma=None, gpu_id=None, grow_policy=None, importance_type=None,\n",
              "             interaction_constraints=None, learning_rate=None, max_bin=None,\n",
              "             max_cat_threshold=None, max_cat_to_onehot=None,\n",
              "             max_delta_step=None, max_depth=None, max_leaves=None,\n",
              "             min_child_weight=None, missing=nan, monotone_constraints=None,\n",
              "             n_estimators=100, n_jobs=None, num_parallel_tree=None,\n",
              "             predictor=None, random_state=None, ...)"
            ],
            "text/html": [
              "<style>#sk-container-id-2 {color: black;background-color: white;}#sk-container-id-2 pre{padding: 0;}#sk-container-id-2 div.sk-toggleable {background-color: white;}#sk-container-id-2 label.sk-toggleable__label {cursor: pointer;display: block;width: 100%;margin-bottom: 0;padding: 0.3em;box-sizing: border-box;text-align: center;}#sk-container-id-2 label.sk-toggleable__label-arrow:before {content: \"▸\";float: left;margin-right: 0.25em;color: #696969;}#sk-container-id-2 label.sk-toggleable__label-arrow:hover:before {color: black;}#sk-container-id-2 div.sk-estimator:hover label.sk-toggleable__label-arrow:before {color: black;}#sk-container-id-2 div.sk-toggleable__content {max-height: 0;max-width: 0;overflow: hidden;text-align: left;background-color: #f0f8ff;}#sk-container-id-2 div.sk-toggleable__content pre {margin: 0.2em;color: black;border-radius: 0.25em;background-color: #f0f8ff;}#sk-container-id-2 input.sk-toggleable__control:checked~div.sk-toggleable__content {max-height: 200px;max-width: 100%;overflow: auto;}#sk-container-id-2 input.sk-toggleable__control:checked~label.sk-toggleable__label-arrow:before {content: \"▾\";}#sk-container-id-2 div.sk-estimator input.sk-toggleable__control:checked~label.sk-toggleable__label {background-color: #d4ebff;}#sk-container-id-2 div.sk-label input.sk-toggleable__control:checked~label.sk-toggleable__label {background-color: #d4ebff;}#sk-container-id-2 input.sk-hidden--visually {border: 0;clip: rect(1px 1px 1px 1px);clip: rect(1px, 1px, 1px, 1px);height: 1px;margin: -1px;overflow: hidden;padding: 0;position: absolute;width: 1px;}#sk-container-id-2 div.sk-estimator {font-family: monospace;background-color: #f0f8ff;border: 1px dotted black;border-radius: 0.25em;box-sizing: border-box;margin-bottom: 0.5em;}#sk-container-id-2 div.sk-estimator:hover {background-color: #d4ebff;}#sk-container-id-2 div.sk-parallel-item::after {content: \"\";width: 100%;border-bottom: 1px solid gray;flex-grow: 1;}#sk-container-id-2 div.sk-label:hover label.sk-toggleable__label {background-color: #d4ebff;}#sk-container-id-2 div.sk-serial::before {content: \"\";position: absolute;border-left: 1px solid gray;box-sizing: border-box;top: 0;bottom: 0;left: 50%;z-index: 0;}#sk-container-id-2 div.sk-serial {display: flex;flex-direction: column;align-items: center;background-color: white;padding-right: 0.2em;padding-left: 0.2em;position: relative;}#sk-container-id-2 div.sk-item {position: relative;z-index: 1;}#sk-container-id-2 div.sk-parallel {display: flex;align-items: stretch;justify-content: center;background-color: white;position: relative;}#sk-container-id-2 div.sk-item::before, #sk-container-id-2 div.sk-parallel-item::before {content: \"\";position: absolute;border-left: 1px solid gray;box-sizing: border-box;top: 0;bottom: 0;left: 50%;z-index: -1;}#sk-container-id-2 div.sk-parallel-item {display: flex;flex-direction: column;z-index: 1;position: relative;background-color: white;}#sk-container-id-2 div.sk-parallel-item:first-child::after {align-self: flex-end;width: 50%;}#sk-container-id-2 div.sk-parallel-item:last-child::after {align-self: flex-start;width: 50%;}#sk-container-id-2 div.sk-parallel-item:only-child::after {width: 0;}#sk-container-id-2 div.sk-dashed-wrapped {border: 1px dashed gray;margin: 0 0.4em 0.5em 0.4em;box-sizing: border-box;padding-bottom: 0.4em;background-color: white;}#sk-container-id-2 div.sk-label label {font-family: monospace;font-weight: bold;display: inline-block;line-height: 1.2em;}#sk-container-id-2 div.sk-label-container {text-align: center;}#sk-container-id-2 div.sk-container {/* jupyter's `normalize.less` sets `[hidden] { display: none; }` but bootstrap.min.css set `[hidden] { display: none !important; }` so we also need the `!important` here to be able to override the default hidden behavior on the sphinx rendered scikit-learn.org. See: https://github.com/scikit-learn/scikit-learn/issues/21755 */display: inline-block !important;position: relative;}#sk-container-id-2 div.sk-text-repr-fallback {display: none;}</style><div id=\"sk-container-id-2\" class=\"sk-top-container\"><div class=\"sk-text-repr-fallback\"><pre>XGBRegressor(base_score=None, booster=None, callbacks=None,\n",
              "             colsample_bylevel=None, colsample_bynode=None,\n",
              "             colsample_bytree=None, early_stopping_rounds=None,\n",
              "             enable_categorical=False, eval_metric=None, feature_types=None,\n",
              "             gamma=None, gpu_id=None, grow_policy=None, importance_type=None,\n",
              "             interaction_constraints=None, learning_rate=None, max_bin=None,\n",
              "             max_cat_threshold=None, max_cat_to_onehot=None,\n",
              "             max_delta_step=None, max_depth=None, max_leaves=None,\n",
              "             min_child_weight=None, missing=nan, monotone_constraints=None,\n",
              "             n_estimators=100, n_jobs=None, num_parallel_tree=None,\n",
              "             predictor=None, random_state=None, ...)</pre><b>In a Jupyter environment, please rerun this cell to show the HTML representation or trust the notebook. <br />On GitHub, the HTML representation is unable to render, please try loading this page with nbviewer.org.</b></div><div class=\"sk-container\" hidden><div class=\"sk-item\"><div class=\"sk-estimator sk-toggleable\"><input class=\"sk-toggleable__control sk-hidden--visually\" id=\"sk-estimator-id-2\" type=\"checkbox\" checked><label for=\"sk-estimator-id-2\" class=\"sk-toggleable__label sk-toggleable__label-arrow\">XGBRegressor</label><div class=\"sk-toggleable__content\"><pre>XGBRegressor(base_score=None, booster=None, callbacks=None,\n",
              "             colsample_bylevel=None, colsample_bynode=None,\n",
              "             colsample_bytree=None, early_stopping_rounds=None,\n",
              "             enable_categorical=False, eval_metric=None, feature_types=None,\n",
              "             gamma=None, gpu_id=None, grow_policy=None, importance_type=None,\n",
              "             interaction_constraints=None, learning_rate=None, max_bin=None,\n",
              "             max_cat_threshold=None, max_cat_to_onehot=None,\n",
              "             max_delta_step=None, max_depth=None, max_leaves=None,\n",
              "             min_child_weight=None, missing=nan, monotone_constraints=None,\n",
              "             n_estimators=100, n_jobs=None, num_parallel_tree=None,\n",
              "             predictor=None, random_state=None, ...)</pre></div></div></div></div></div>"
            ]
          },
          "metadata": {},
          "execution_count": 21
        }
      ]
    },
    {
      "cell_type": "code",
      "source": [
        "y_pred = xg_reg.predict(x_test)"
      ],
      "metadata": {
        "id": "8scKb_HBMlkA"
      },
      "execution_count": null,
      "outputs": []
    },
    {
      "cell_type": "code",
      "source": [
        "y_pred"
      ],
      "metadata": {
        "colab": {
          "base_uri": "https://localhost:8080/"
        },
        "id": "2tORyPJdMzW7",
        "outputId": "d8bad046-3a4d-4480-8281-ab2240d7236c"
      },
      "execution_count": null,
      "outputs": [
        {
          "output_type": "execute_result",
          "data": {
            "text/plain": [
              "array([2994.3208  , 1217.5924  ,  267.74564 ,  723.4223  ,  256.38834 ,\n",
              "        188.48045 , 3726.198   ,  259.69022 , 3069.6038  , 3375.6025  ,\n",
              "        165.76262 , 2566.991   ,  412.1644  , 4288.427   ,  492.71777 ,\n",
              "        219.44801 , 1828.1776  , 1979.6306  , 1009.0655  , 1822.9138  ,\n",
              "        397.16583 , 1917.9092  , 1828.1776  ,  759.16565 , 1822.9138  ,\n",
              "        211.4261  ,  144.70937 , 1613.8901  ,  191.32959 , 1217.5924  ,\n",
              "       2768.4631  , 3774.7346  ,  135.95161 ,  211.60153 , 1231.3135  ,\n",
              "        168.20229 ,  248.45729 ,  143.05826 ,  374.7858  , 2083.4182  ,\n",
              "       1629.8567  , 1815.0852  ,  209.89876 ,  191.32959 ,  374.7858  ,\n",
              "       2074.044   ,  130.77544 ,  545.89685 , 3223.5     , 2997.6511  ,\n",
              "       3644.33    ,  361.98245 , 2997.2712  ,  117.20649 ,  203.53517 ,\n",
              "        496.72742 ,  612.0411  , 1252.283   , 1302.0203  , 1797.9497  ,\n",
              "        695.3949  ,  602.7966  ,  251.85141 , 2843.3953  ,  412.1644  ,\n",
              "       2322.3528  , 1789.2076  , 1371.6129  ,  149.90054 , 1252.283   ,\n",
              "        271.85    , 4410.057   , 2609.6606  ,  395.66696 , 3142.475   ,\n",
              "       2147.995   , 1891.1964  , 4019.1953  ,  211.60153 , 1394.9768  ,\n",
              "       1317.7916  , 3082.5522  ,  144.70937 , 1142.5911  , 3119.2812  ,\n",
              "       2736.1477  ,  346.09732 ,  144.70937 ,  203.4108  ,  275.37723 ,\n",
              "        731.5166  ,  114.642006, 2818.7651  ,  119.17553 ,  185.65659 ,\n",
              "        209.89876 ,  141.1324  ,  248.45729 ,  143.05826 , 1979.6306  ,\n",
              "       1979.6306  , 1394.9768  , 3373.2886  , 1194.8639  , 4300.989   ,\n",
              "       2390.561   ,  251.85141 , 2679.722   , 2843.3953  ,  419.43604 ,\n",
              "       1363.9423  ,  784.9415  ,  845.55    , 1152.1986  ,  141.1324  ,\n",
              "       2607.3713  ,  412.1644  , 3110.2644  , 1491.0156  ,  183.41374 ,\n",
              "       1264.1508  ,  302.80066 , 1769.9207  ,  211.60153 , 2030.4027  ,\n",
              "        267.74564 ,  135.95161 ,  184.3548  ,  122.04388 , 2322.3528  ,\n",
              "       2761.4658  ,  200.80408 ,  374.7858  , 2695.5806  ,  503.55286 ,\n",
              "       4413.586   ,  180.6337  ,  272.37534 , 1858.3794  , 1174.5132  ,\n",
              "        144.70937 ,  211.60153 ,  734.3039  , 2677.682   , 1626.0651  ,\n",
              "       4041.17    , 4631.2744  ,  271.85    , 1783.7008  ,  473.25015 ,\n",
              "       2322.3528  ,  199.18921 ,  135.95161 , 1217.5924  , 1858.3794  ,\n",
              "        185.65659 , 1277.6438  , 2697.4885  ,  188.48045 ,  267.74564 ,\n",
              "        275.37723 , 1217.5924  ,  180.6337  ,  180.6337  ,  185.65659 ,\n",
              "        784.9415  ,  875.33405 , 1333.2745  ,  203.53517 ,  203.4108  ,\n",
              "       1302.0203  ,  412.1644  , 1944.0437  , 1489.5969  ,  412.1644  ,\n",
              "       2950.7837  ,  267.74564 , 4250.9697  ,  122.04388 , 2679.722   ,\n",
              "        248.45729 , 3075.1133  ,  144.70937 ,  248.45729 , 4646.7397  ,\n",
              "       1285.689   , 1231.3135  , 3274.2341  ,  119.17553 , 2579.5735  ,\n",
              "       1649.2115  ,  219.44801 ,  185.65659 ,  117.20649 ,  400.09613 ,\n",
              "        188.48045 , 1152.1986  ,  203.53517 , 2994.3208  ,  213.19951 ,\n",
              "       1277.6438  , 1534.0175  , 1701.3406  , 3965.5134  , 1854.9679  ,\n",
              "       1683.8586  ,  256.7194  ,  361.98245 , 1310.0247  , 1231.3135  ,\n",
              "       1822.9138  , 1264.1508  , 1649.2115  ,  412.1644  ,  144.70937 ,\n",
              "       1789.2076  ,  803.19775 , 1178.3577  , 1666.235   ,  578.8954  ,\n",
              "       1454.118   , 1997.3721  , 4250.9697  ,  219.44801 , 2958.1736  ,\n",
              "        602.4382  ,  505.3807  , 1120.6266  ,  461.60474 ,  144.70937 ,\n",
              "        203.53517 ,  191.32959 ,  188.48045 , 1152.1986  ,  180.6337  ,\n",
              "       2566.991   , 1254.6814  , 4146.2866  ,  374.7858  , 1629.8567  ,\n",
              "        986.5344  , 4217.5625  ,  209.89876 ,  505.3807  ,  476.925   ,\n",
              "        461.2979  , 1671.9618  ,  168.20229 , 2411.7715  ,  195.78845 ,\n",
              "        251.85141 ,  119.17553 , 2083.4182  ,  141.1324  , 2679.722   ,\n",
              "        185.65659 ,  611.4473  , 1202.9675  , 4250.9697  , 1828.1776  ,\n",
              "        275.37723 ,  412.1644  ,  135.95161 , 1767.9335  , 2433.1523  ,\n",
              "        197.7338  ,  955.12354 , 4180.8076  ,  144.70937 ,  723.4223  ,\n",
              "        420.98148 ,  203.53517 ,  209.89876 ,  476.925   ,  346.09732 ,\n",
              "        525.7449  , 3644.33    ,  203.53517 , 3199.997   ,  264.77866 ,\n",
              "        503.55286 ,  612.0411  , 2806.1992  ,  473.25015 , 1828.1776  ,\n",
              "       2746.156   , 1805.4592  , 1828.1776  ,  209.89876 , 2950.7837  ,\n",
              "        199.18921 ,  461.2979  ,  674.20306 ,  144.70937 ,  144.70937 ,\n",
              "       2677.682   , 2958.1736  , 2902.8472  , 1597.5087  ,  143.05826 ,\n",
              "        211.60153 ,  260.30917 , 4086.855   ,  219.44801 ,  461.2979  ,\n",
              "        260.89502 ,  122.04388 , 2566.991   ,  187.26764 , 2818.7651  ,\n",
              "       1777.9684  ,  144.70937 ,  256.7194  , 1823.6287  , 1649.2115  ,\n",
              "       1563.8036  ,  205.77998 ,  248.72565 , 1882.7178  ,  219.44801 ,\n",
              "       2401.5095  ,  412.1644  ,  219.44801 ,  209.89876 ,  143.05826 ,\n",
              "       1701.1736  , 3360.1274  ,  209.89876 , 3069.6038  , 1629.8567  ,\n",
              "       1797.9497  ,  191.32959 , 1252.283   , 1789.2076  , 1604.7991  ,\n",
              "        189.20023 ,  940.319   ,  209.89876 ,  302.80066 ,  183.41374 ,\n",
              "        186.99876 , 1849.3905  ,  203.53517 , 1841.6492  , 3366.6438  ,\n",
              "       1823.6287  , 1497.5685  ,  260.30917 ,  144.70937 ,  397.7689  ,\n",
              "        374.7858  ,  530.64197 ,  141.1324  , 4277.6606  , 1696.4828  ,\n",
              "       3212.8948  ,  302.80066 , 1666.235   ,  426.29932 ,  168.20229 ,\n",
              "        269.92465 , 1394.9768  ,  144.70937 , 3375.6025  ,  940.319   ,\n",
              "        205.77998 , 1847.0356  , 2745.4253  ,  135.95161 ,  503.55286 ,\n",
              "       1143.5082  , 3932.3298  ,  209.89876 ,  209.89876 , 3950.9878  ,\n",
              "       1944.0437  ,  256.7194  , 1421.987   , 2288.958   , 1776.5007  ,\n",
              "       1298.7715  ,  906.755   ,  180.6337  ,  122.04388 , 1202.9675  ,\n",
              "       1789.2076  , 1649.4415  ,  260.89502 ,  231.67386 , 1277.6438  ,\n",
              "       1651.3949  , 1217.5924  , 2806.1992  , 3149.0195  ,  361.98245 ,\n",
              "        711.5228  ,  165.76262 , 1302.0203  ,  135.95161 ,  203.4108  ,\n",
              "        978.33575 , 1775.4424  , 1363.9423  , 2322.3528  ,  611.4473  ,\n",
              "       1376.8191  ,  203.4108  , 1610.9313  ], dtype=float32)"
            ]
          },
          "metadata": {},
          "execution_count": 23
        }
      ]
    },
    {
      "cell_type": "code",
      "source": [
        "xg_reg.score(x_train,y_train)"
      ],
      "metadata": {
        "colab": {
          "base_uri": "https://localhost:8080/"
        },
        "id": "xP1aRQwJM0aQ",
        "outputId": "ae1e042f-f061-44d1-de70-7e4fcb0b9565"
      },
      "execution_count": null,
      "outputs": [
        {
          "output_type": "execute_result",
          "data": {
            "text/plain": [
              "0.9921388975546115"
            ]
          },
          "metadata": {},
          "execution_count": 24
        }
      ]
    },
    {
      "cell_type": "code",
      "source": [
        "plt.figure(figsize=(10,5))\n",
        "plt.plot(y_test,label=\"Original\")\n",
        "plt.plot(y_pred,label=\"Predicted\")\n",
        "plt.legend(fontsize = 10)\n",
        "plt.show()"
      ],
      "metadata": {
        "colab": {
          "base_uri": "https://localhost:8080/",
          "height": 445
        },
        "id": "l2OvemRiNVnT",
        "outputId": "57df1f00-52ec-46dc-91eb-7cdf4ace1056"
      },
      "execution_count": null,
      "outputs": [
        {
          "output_type": "display_data",
          "data": {
            "text/plain": [
              "<Figure size 1000x500 with 1 Axes>"
            ],
            "image/png": "[encoded data removed]"
          },
          "metadata": {}
        }
      ]
    },
    {
      "cell_type": "code",
      "source": [
        "sum_residual = 0\n",
        "for i in range(len(y_test)):\n",
        "  sum_residual = sum_residual + (y_test[i][0] - y_pred[i])**2\n"
      ],
      "metadata": {
        "id": "KlAWLjj_NdBH"
      },
      "execution_count": null,
      "outputs": []
    },
    {
      "cell_type": "code",
      "source": [
        "sum1 = 0\n",
        "for i in range(len(y_test)):\n",
        "  sum1 = sum1 + y_test[i][0]\n",
        "mean = sum1/len(y_test)"
      ],
      "metadata": {
        "id": "13tHKirnttSp"
      },
      "execution_count": null,
      "outputs": []
    },
    {
      "cell_type": "code",
      "source": [
        "mean"
      ],
      "metadata": {
        "colab": {
          "base_uri": "https://localhost:8080/"
        },
        "id": "KCN7ErqmuMHn",
        "outputId": "47799d13-7224-472b-a403-a546c2ebfba7"
      },
      "execution_count": null,
      "outputs": [
        {
          "output_type": "execute_result",
          "data": {
            "text/plain": [
              "1239.762375644609"
            ]
          },
          "metadata": {},
          "execution_count": 28
        }
      ]
    },
    {
      "cell_type": "code",
      "source": [
        "sum_total = 0\n",
        "for i in range(len(y_test)):\n",
        "  sum_total = sum_total + (y_test[i][0] - mean)**2"
      ],
      "metadata": {
        "id": "YiBw_64yuM1E"
      },
      "execution_count": null,
      "outputs": []
    },
    {
      "cell_type": "code",
      "source": [
        "r_squared = 1 - (sum_residual/sum_total)"
      ],
      "metadata": {
        "id": "hacCA2oQurnB"
      },
      "execution_count": null,
      "outputs": []
    },
    {
      "cell_type": "code",
      "source": [
        "r_squared"
      ],
      "metadata": {
        "colab": {
          "base_uri": "https://localhost:8080/"
        },
        "id": "u3UyzcxXuvIr",
        "outputId": "860f25c0-499b-4baa-e0d3-cd4a0bedef6e"
      },
      "execution_count": null,
      "outputs": [
        {
          "output_type": "execute_result",
          "data": {
            "text/plain": [
              "0.9320020547800354"
            ]
          },
          "metadata": {},
          "execution_count": 31
        }
      ]
    },
    {
      "cell_type": "code",
      "source": [
        "from sklearn.metrics import r2_score\n",
        "R_squared = r2_score(y_test,y_pred)"
      ],
      "metadata": {
        "id": "1RScXfMzuv-2"
      },
      "execution_count": null,
      "outputs": []
    },
    {
      "cell_type": "code",
      "source": [
        "R_squared"
      ],
      "metadata": {
        "colab": {
          "base_uri": "https://localhost:8080/"
        },
        "id": "hmzWUk_du3Ql",
        "outputId": "f02e89e1-ad82-45a6-bd35-6dc68f322971"
      },
      "execution_count": null,
      "outputs": [
        {
          "output_type": "execute_result",
          "data": {
            "text/plain": [
              "0.9320020547800354"
            ]
          },
          "metadata": {},
          "execution_count": 33
        }
      ]
    },
    {
      "cell_type": "code",
      "source": [],
      "metadata": {
        "id": "1ElzFQDIvA8y"
      },
      "execution_count": null,
      "outputs": []
    }
  ]
}